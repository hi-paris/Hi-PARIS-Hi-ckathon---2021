{
 "cells": [
  {
   "cell_type": "markdown",
   "metadata": {},
   "source": [
    "## Submission Notebook Template "
   ]
  },
  {
   "cell_type": "markdown",
   "metadata": {},
   "source": [
    "<h3> <font color='red'> WARNING : </font>  </h3>"
   ]
  },
  {
   "cell_type": "markdown",
   "metadata": {},
   "source": [
    "<font color='red'> No matter which approach you've chosen, you need to re-install any custom packages you had to install to make your code work ! </font>"
   ]
  },
  {
   "cell_type": "markdown",
   "metadata": {},
   "source": [
    "<b> Install your packages below: </b>"
   ]
  },
  {
   "cell_type": "code",
   "execution_count": 3,
   "metadata": {},
   "outputs": [
    {
     "name": "stdout",
     "output_type": "stream",
     "text": [
      "Collecting git+https://github.com/Total-RD/pymgrid/\n",
      "  Cloning https://github.com/Total-RD/pymgrid/ to /private/var/folders/3y/ww5n_f0s7_70dsv_fsn8qh7m0000gn/T/pip-req-build-8dce3n12\n",
      "Requirement already satisfied: requests in /usr/local/anaconda3/envs/hiparis/lib/python3.8/site-packages (from pymgrid==0.1.0) (2.25.1)\n",
      "Requirement already satisfied: pandas in /usr/local/anaconda3/envs/hiparis/lib/python3.8/site-packages (from pymgrid==0.1.0) (1.2.1)\n",
      "Requirement already satisfied: numpy in /usr/local/anaconda3/envs/hiparis/lib/python3.8/site-packages (from pymgrid==0.1.0) (1.18.5)\n",
      "Requirement already satisfied: cvxpy in /usr/local/anaconda3/envs/hiparis/lib/python3.8/site-packages (from pymgrid==0.1.0) (1.1.10)\n",
      "Requirement already satisfied: statsmodels in /usr/local/anaconda3/envs/hiparis/lib/python3.8/site-packages (from pymgrid==0.1.0) (0.12.1)\n",
      "Requirement already satisfied: matplotlib in /usr/local/anaconda3/envs/hiparis/lib/python3.8/site-packages (from pymgrid==0.1.0) (3.3.2)\n",
      "Requirement already satisfied: plotly in /usr/local/anaconda3/envs/hiparis/lib/python3.8/site-packages (from pymgrid==0.1.0) (4.14.3)\n",
      "Requirement already satisfied: cufflinks in /usr/local/anaconda3/envs/hiparis/lib/python3.8/site-packages (from pymgrid==0.1.0) (0.17.3)\n",
      "Requirement already satisfied: gym in /usr/local/anaconda3/envs/hiparis/lib/python3.8/site-packages (from pymgrid==0.1.0) (0.18.0)\n",
      "Requirement already satisfied: six>=1.9.0 in /usr/local/anaconda3/envs/hiparis/lib/python3.8/site-packages (from cufflinks->pymgrid==0.1.0) (1.15.0)\n",
      "Requirement already satisfied: ipywidgets>=7.0.0 in /usr/local/anaconda3/envs/hiparis/lib/python3.8/site-packages (from cufflinks->pymgrid==0.1.0) (7.6.3)\n",
      "Requirement already satisfied: ipython>=5.3.0 in /usr/local/anaconda3/envs/hiparis/lib/python3.8/site-packages (from cufflinks->pymgrid==0.1.0) (7.20.0)\n",
      "Requirement already satisfied: colorlover>=0.2.1 in /usr/local/anaconda3/envs/hiparis/lib/python3.8/site-packages (from cufflinks->pymgrid==0.1.0) (0.3.0)\n",
      "Requirement already satisfied: setuptools>=34.4.1 in /usr/local/anaconda3/envs/hiparis/lib/python3.8/site-packages (from cufflinks->pymgrid==0.1.0) (52.0.0.post20210125)\n",
      "Requirement already satisfied: pexpect>4.3 in /usr/local/anaconda3/envs/hiparis/lib/python3.8/site-packages (from ipython>=5.3.0->cufflinks->pymgrid==0.1.0) (4.8.0)\n",
      "Requirement already satisfied: jedi>=0.16 in /usr/local/anaconda3/envs/hiparis/lib/python3.8/site-packages (from ipython>=5.3.0->cufflinks->pymgrid==0.1.0) (0.17.0)\n",
      "Requirement already satisfied: pygments in /usr/local/anaconda3/envs/hiparis/lib/python3.8/site-packages (from ipython>=5.3.0->cufflinks->pymgrid==0.1.0) (2.7.4)\n",
      "Requirement already satisfied: backcall in /usr/local/anaconda3/envs/hiparis/lib/python3.8/site-packages (from ipython>=5.3.0->cufflinks->pymgrid==0.1.0) (0.2.0)\n",
      "Requirement already satisfied: traitlets>=4.2 in /usr/local/anaconda3/envs/hiparis/lib/python3.8/site-packages (from ipython>=5.3.0->cufflinks->pymgrid==0.1.0) (5.0.5)\n",
      "Requirement already satisfied: appnope in /usr/local/anaconda3/envs/hiparis/lib/python3.8/site-packages (from ipython>=5.3.0->cufflinks->pymgrid==0.1.0) (0.1.2)\n",
      "Requirement already satisfied: pickleshare in /usr/local/anaconda3/envs/hiparis/lib/python3.8/site-packages (from ipython>=5.3.0->cufflinks->pymgrid==0.1.0) (0.7.5)\n",
      "Requirement already satisfied: decorator in /usr/local/anaconda3/envs/hiparis/lib/python3.8/site-packages (from ipython>=5.3.0->cufflinks->pymgrid==0.1.0) (4.4.2)\n",
      "Requirement already satisfied: prompt-toolkit!=3.0.0,!=3.0.1,<3.1.0,>=2.0.0 in /usr/local/anaconda3/envs/hiparis/lib/python3.8/site-packages (from ipython>=5.3.0->cufflinks->pymgrid==0.1.0) (3.0.8)\n",
      "Requirement already satisfied: widgetsnbextension~=3.5.0 in /usr/local/anaconda3/envs/hiparis/lib/python3.8/site-packages (from ipywidgets>=7.0.0->cufflinks->pymgrid==0.1.0) (3.5.1)\n",
      "Requirement already satisfied: ipykernel>=4.5.1 in /usr/local/anaconda3/envs/hiparis/lib/python3.8/site-packages (from ipywidgets>=7.0.0->cufflinks->pymgrid==0.1.0) (5.3.4)\n",
      "Requirement already satisfied: jupyterlab-widgets>=1.0.0 in /usr/local/anaconda3/envs/hiparis/lib/python3.8/site-packages (from ipywidgets>=7.0.0->cufflinks->pymgrid==0.1.0) (1.0.0)\n",
      "Requirement already satisfied: nbformat>=4.2.0 in /usr/local/anaconda3/envs/hiparis/lib/python3.8/site-packages (from ipywidgets>=7.0.0->cufflinks->pymgrid==0.1.0) (5.1.2)\n",
      "Requirement already satisfied: tornado>=4.2 in /usr/local/anaconda3/envs/hiparis/lib/python3.8/site-packages (from ipykernel>=4.5.1->ipywidgets>=7.0.0->cufflinks->pymgrid==0.1.0) (6.1)\n",
      "Requirement already satisfied: jupyter-client in /usr/local/anaconda3/envs/hiparis/lib/python3.8/site-packages (from ipykernel>=4.5.1->ipywidgets>=7.0.0->cufflinks->pymgrid==0.1.0) (6.1.7)\n",
      "Requirement already satisfied: parso>=0.7.0 in /usr/local/anaconda3/envs/hiparis/lib/python3.8/site-packages (from jedi>=0.16->ipython>=5.3.0->cufflinks->pymgrid==0.1.0) (0.8.1)\n",
      "Requirement already satisfied: jupyter-core in /usr/local/anaconda3/envs/hiparis/lib/python3.8/site-packages (from nbformat>=4.2.0->ipywidgets>=7.0.0->cufflinks->pymgrid==0.1.0) (4.7.1)\n",
      "Requirement already satisfied: ipython-genutils in /usr/local/anaconda3/envs/hiparis/lib/python3.8/site-packages (from nbformat>=4.2.0->ipywidgets>=7.0.0->cufflinks->pymgrid==0.1.0) (0.2.0)\n",
      "Requirement already satisfied: jsonschema!=2.5.0,>=2.4 in /usr/local/anaconda3/envs/hiparis/lib/python3.8/site-packages (from nbformat>=4.2.0->ipywidgets>=7.0.0->cufflinks->pymgrid==0.1.0) (3.2.0)\n",
      "Requirement already satisfied: attrs>=17.4.0 in /usr/local/anaconda3/envs/hiparis/lib/python3.8/site-packages (from jsonschema!=2.5.0,>=2.4->nbformat>=4.2.0->ipywidgets>=7.0.0->cufflinks->pymgrid==0.1.0) (20.3.0)\n",
      "Requirement already satisfied: pyrsistent>=0.14.0 in /usr/local/anaconda3/envs/hiparis/lib/python3.8/site-packages (from jsonschema!=2.5.0,>=2.4->nbformat>=4.2.0->ipywidgets>=7.0.0->cufflinks->pymgrid==0.1.0) (0.17.3)\n",
      "Requirement already satisfied: python-dateutil>=2.7.3 in /usr/local/anaconda3/envs/hiparis/lib/python3.8/site-packages (from pandas->pymgrid==0.1.0) (2.8.1)\n",
      "Requirement already satisfied: pytz>=2017.3 in /usr/local/anaconda3/envs/hiparis/lib/python3.8/site-packages (from pandas->pymgrid==0.1.0) (2021.1)\n",
      "Requirement already satisfied: ptyprocess>=0.5 in /usr/local/anaconda3/envs/hiparis/lib/python3.8/site-packages (from pexpect>4.3->ipython>=5.3.0->cufflinks->pymgrid==0.1.0) (0.7.0)\n",
      "Requirement already satisfied: retrying>=1.3.3 in /usr/local/anaconda3/envs/hiparis/lib/python3.8/site-packages (from plotly->pymgrid==0.1.0) (1.3.3)\n",
      "Requirement already satisfied: wcwidth in /usr/local/anaconda3/envs/hiparis/lib/python3.8/site-packages (from prompt-toolkit!=3.0.0,!=3.0.1,<3.1.0,>=2.0.0->ipython>=5.3.0->cufflinks->pymgrid==0.1.0) (0.2.5)\n",
      "Requirement already satisfied: notebook>=4.4.1 in /usr/local/anaconda3/envs/hiparis/lib/python3.8/site-packages (from widgetsnbextension~=3.5.0->ipywidgets>=7.0.0->cufflinks->pymgrid==0.1.0) (6.2.0)\n",
      "Requirement already satisfied: argon2-cffi in /usr/local/anaconda3/envs/hiparis/lib/python3.8/site-packages (from notebook>=4.4.1->widgetsnbextension~=3.5.0->ipywidgets>=7.0.0->cufflinks->pymgrid==0.1.0) (20.1.0)\n",
      "Requirement already satisfied: Send2Trash>=1.5.0 in /usr/local/anaconda3/envs/hiparis/lib/python3.8/site-packages (from notebook>=4.4.1->widgetsnbextension~=3.5.0->ipywidgets>=7.0.0->cufflinks->pymgrid==0.1.0) (1.5.0)\n",
      "Requirement already satisfied: terminado>=0.8.3 in /usr/local/anaconda3/envs/hiparis/lib/python3.8/site-packages (from notebook>=4.4.1->widgetsnbextension~=3.5.0->ipywidgets>=7.0.0->cufflinks->pymgrid==0.1.0) (0.9.2)\n",
      "Requirement already satisfied: pyzmq>=17 in /usr/local/anaconda3/envs/hiparis/lib/python3.8/site-packages (from notebook>=4.4.1->widgetsnbextension~=3.5.0->ipywidgets>=7.0.0->cufflinks->pymgrid==0.1.0) (20.0.0)\n",
      "Requirement already satisfied: jinja2 in /usr/local/anaconda3/envs/hiparis/lib/python3.8/site-packages (from notebook>=4.4.1->widgetsnbextension~=3.5.0->ipywidgets>=7.0.0->cufflinks->pymgrid==0.1.0) (2.11.3)\n",
      "Requirement already satisfied: nbconvert in /usr/local/anaconda3/envs/hiparis/lib/python3.8/site-packages (from notebook>=4.4.1->widgetsnbextension~=3.5.0->ipywidgets>=7.0.0->cufflinks->pymgrid==0.1.0) (6.0.7)\n",
      "Requirement already satisfied: prometheus-client in /usr/local/anaconda3/envs/hiparis/lib/python3.8/site-packages (from notebook>=4.4.1->widgetsnbextension~=3.5.0->ipywidgets>=7.0.0->cufflinks->pymgrid==0.1.0) (0.9.0)\n"
     ]
    },
    {
     "name": "stdout",
     "output_type": "stream",
     "text": [
      "Requirement already satisfied: cffi>=1.0.0 in /usr/local/anaconda3/envs/hiparis/lib/python3.8/site-packages (from argon2-cffi->notebook>=4.4.1->widgetsnbextension~=3.5.0->ipywidgets>=7.0.0->cufflinks->pymgrid==0.1.0) (1.14.0)\n",
      "Requirement already satisfied: pycparser in /usr/local/anaconda3/envs/hiparis/lib/python3.8/site-packages (from cffi>=1.0.0->argon2-cffi->notebook>=4.4.1->widgetsnbextension~=3.5.0->ipywidgets>=7.0.0->cufflinks->pymgrid==0.1.0) (2.20)\n",
      "Requirement already satisfied: ecos>=2 in /usr/local/anaconda3/envs/hiparis/lib/python3.8/site-packages (from cvxpy->pymgrid==0.1.0) (2.0.7.post1)\n",
      "Requirement already satisfied: scs>=1.1.6 in /usr/local/anaconda3/envs/hiparis/lib/python3.8/site-packages (from cvxpy->pymgrid==0.1.0) (2.1.2)\n",
      "Requirement already satisfied: osqp>=0.4.1 in /usr/local/anaconda3/envs/hiparis/lib/python3.8/site-packages (from cvxpy->pymgrid==0.1.0) (0.6.2.post0)\n",
      "Requirement already satisfied: scipy>=1.1.0 in /usr/local/anaconda3/envs/hiparis/lib/python3.8/site-packages (from cvxpy->pymgrid==0.1.0) (1.6.0)\n",
      "Requirement already satisfied: qdldl in /usr/local/anaconda3/envs/hiparis/lib/python3.8/site-packages (from osqp>=0.4.1->cvxpy->pymgrid==0.1.0) (0.1.5.post0)\n",
      "Requirement already satisfied: cloudpickle<1.7.0,>=1.2.0 in /usr/local/anaconda3/envs/hiparis/lib/python3.8/site-packages (from gym->pymgrid==0.1.0) (1.6.0)\n",
      "Requirement already satisfied: pyglet<=1.5.0,>=1.4.0 in /usr/local/anaconda3/envs/hiparis/lib/python3.8/site-packages (from gym->pymgrid==0.1.0) (1.5.0)\n",
      "Requirement already satisfied: Pillow<=7.2.0 in /usr/local/anaconda3/envs/hiparis/lib/python3.8/site-packages (from gym->pymgrid==0.1.0) (7.2.0)\n",
      "Requirement already satisfied: future in /usr/local/anaconda3/envs/hiparis/lib/python3.8/site-packages (from pyglet<=1.5.0,>=1.4.0->gym->pymgrid==0.1.0) (0.18.2)\n",
      "Requirement already satisfied: MarkupSafe>=0.23 in /usr/local/anaconda3/envs/hiparis/lib/python3.8/site-packages (from jinja2->notebook>=4.4.1->widgetsnbextension~=3.5.0->ipywidgets>=7.0.0->cufflinks->pymgrid==0.1.0) (1.1.1)\n",
      "Requirement already satisfied: pyparsing!=2.0.4,!=2.1.2,!=2.1.6,>=2.0.3 in /usr/local/anaconda3/envs/hiparis/lib/python3.8/site-packages (from matplotlib->pymgrid==0.1.0) (2.4.7)\n",
      "Requirement already satisfied: kiwisolver>=1.0.1 in /usr/local/anaconda3/envs/hiparis/lib/python3.8/site-packages (from matplotlib->pymgrid==0.1.0) (1.3.1)\n",
      "Requirement already satisfied: certifi>=2020.06.20 in /usr/local/anaconda3/envs/hiparis/lib/python3.8/site-packages (from matplotlib->pymgrid==0.1.0) (2020.12.5)\n",
      "Requirement already satisfied: cycler>=0.10 in /usr/local/anaconda3/envs/hiparis/lib/python3.8/site-packages (from matplotlib->pymgrid==0.1.0) (0.10.0)\n",
      "Requirement already satisfied: bleach in /usr/local/anaconda3/envs/hiparis/lib/python3.8/site-packages (from nbconvert->notebook>=4.4.1->widgetsnbextension~=3.5.0->ipywidgets>=7.0.0->cufflinks->pymgrid==0.1.0) (3.3.0)\n",
      "Requirement already satisfied: mistune<2,>=0.8.1 in /usr/local/anaconda3/envs/hiparis/lib/python3.8/site-packages (from nbconvert->notebook>=4.4.1->widgetsnbextension~=3.5.0->ipywidgets>=7.0.0->cufflinks->pymgrid==0.1.0) (0.8.4)\n",
      "Requirement already satisfied: defusedxml in /usr/local/anaconda3/envs/hiparis/lib/python3.8/site-packages (from nbconvert->notebook>=4.4.1->widgetsnbextension~=3.5.0->ipywidgets>=7.0.0->cufflinks->pymgrid==0.1.0) (0.6.0)\n",
      "Requirement already satisfied: jupyterlab-pygments in /usr/local/anaconda3/envs/hiparis/lib/python3.8/site-packages (from nbconvert->notebook>=4.4.1->widgetsnbextension~=3.5.0->ipywidgets>=7.0.0->cufflinks->pymgrid==0.1.0) (0.1.2)\n",
      "Requirement already satisfied: nbclient<0.6.0,>=0.5.0 in /usr/local/anaconda3/envs/hiparis/lib/python3.8/site-packages (from nbconvert->notebook>=4.4.1->widgetsnbextension~=3.5.0->ipywidgets>=7.0.0->cufflinks->pymgrid==0.1.0) (0.5.1)\n",
      "Requirement already satisfied: pandocfilters>=1.4.1 in /usr/local/anaconda3/envs/hiparis/lib/python3.8/site-packages (from nbconvert->notebook>=4.4.1->widgetsnbextension~=3.5.0->ipywidgets>=7.0.0->cufflinks->pymgrid==0.1.0) (1.4.3)\n",
      "Requirement already satisfied: testpath in /usr/local/anaconda3/envs/hiparis/lib/python3.8/site-packages (from nbconvert->notebook>=4.4.1->widgetsnbextension~=3.5.0->ipywidgets>=7.0.0->cufflinks->pymgrid==0.1.0) (0.4.4)\n",
      "Requirement already satisfied: entrypoints>=0.2.2 in /usr/local/anaconda3/envs/hiparis/lib/python3.8/site-packages (from nbconvert->notebook>=4.4.1->widgetsnbextension~=3.5.0->ipywidgets>=7.0.0->cufflinks->pymgrid==0.1.0) (0.3)\n",
      "Requirement already satisfied: async-generator in /usr/local/anaconda3/envs/hiparis/lib/python3.8/site-packages (from nbclient<0.6.0,>=0.5.0->nbconvert->notebook>=4.4.1->widgetsnbextension~=3.5.0->ipywidgets>=7.0.0->cufflinks->pymgrid==0.1.0) (1.10)\n",
      "Requirement already satisfied: nest-asyncio in /usr/local/anaconda3/envs/hiparis/lib/python3.8/site-packages (from nbclient<0.6.0,>=0.5.0->nbconvert->notebook>=4.4.1->widgetsnbextension~=3.5.0->ipywidgets>=7.0.0->cufflinks->pymgrid==0.1.0) (1.4.3)\n",
      "Requirement already satisfied: packaging in /usr/local/anaconda3/envs/hiparis/lib/python3.8/site-packages (from bleach->nbconvert->notebook>=4.4.1->widgetsnbextension~=3.5.0->ipywidgets>=7.0.0->cufflinks->pymgrid==0.1.0) (20.9)\n",
      "Requirement already satisfied: webencodings in /usr/local/anaconda3/envs/hiparis/lib/python3.8/site-packages (from bleach->nbconvert->notebook>=4.4.1->widgetsnbextension~=3.5.0->ipywidgets>=7.0.0->cufflinks->pymgrid==0.1.0) (0.5.1)\n",
      "Requirement already satisfied: idna<3,>=2.5 in /usr/local/anaconda3/envs/hiparis/lib/python3.8/site-packages (from requests->pymgrid==0.1.0) (2.10)\n",
      "Requirement already satisfied: chardet<5,>=3.0.2 in /usr/local/anaconda3/envs/hiparis/lib/python3.8/site-packages (from requests->pymgrid==0.1.0) (3.0.4)\n",
      "Requirement already satisfied: urllib3<1.27,>=1.21.1 in /usr/local/anaconda3/envs/hiparis/lib/python3.8/site-packages (from requests->pymgrid==0.1.0) (1.26.3)\n",
      "Requirement already satisfied: patsy>=0.5 in /usr/local/anaconda3/envs/hiparis/lib/python3.8/site-packages (from statsmodels->pymgrid==0.1.0) (0.5.1)\n",
      "Collecting prettytable\n",
      "  Downloading prettytable-2.1.0-py3-none-any.whl (22 kB)\n",
      "Requirement already satisfied: wcwidth in /usr/local/anaconda3/envs/hiparis/lib/python3.8/site-packages (from prettytable) (0.2.5)\n",
      "Installing collected packages: prettytable\n",
      "Successfully installed prettytable-2.1.0\n"
     ]
    }
   ],
   "source": [
    "!pip install git+https://github.com/Total-RD/pymgrid/\n",
    "## Other packages \n",
    "!pip install prettytable"
   ]
  },
  {
   "cell_type": "markdown",
   "metadata": {},
   "source": [
    "In the section below, you must run your methodology for solving the problem from start to finish :"
   ]
  },
  {
   "cell_type": "code",
   "execution_count": 1,
   "metadata": {},
   "outputs": [],
   "source": [
    "import pickle\n",
    "\n",
    "\"\"\"\n",
    "The buildings mentionned below are specific to the hackathon and are not available in this repo.\n",
    "You can replace them with any MicroGrid object generated from pymgrid\n",
    "\"\"\"\n",
    "\n",
    "with open('building_1.pkl', 'rb') as f:\n",
    "    building_1 = pickle.load(f)\n",
    "    building_1.train_test_split()\n",
    "\n",
    "with open('building_2.pkl', 'rb') as f:\n",
    "    building_2 = pickle.load(f)\n",
    "    building_2.train_test_split()\n",
    "    \n",
    "with open('building_3.pkl', 'rb') as f:\n",
    "    building_3 = pickle.load(f)\n",
    "    building_3.train_test_split()\n",
    "\n",
    "buildings = [building_1, building_2, building_3]"
   ]
  },
  {
   "cell_type": "markdown",
   "metadata": {},
   "source": [
    "<h2> Evaluation for Rule Based Approaches </h2>"
   ]
  },
  {
   "cell_type": "markdown",
   "metadata": {},
   "source": [
    "If you're using Rule Based Algorithms, here is what your submitted code should feature no matter what "
   ]
  },
  {
   "cell_type": "markdown",
   "metadata": {},
   "source": [
    "<b> 1) Import all used libraries and scripts here </b>"
   ]
  },
  {
   "cell_type": "code",
   "execution_count": 4,
   "metadata": {},
   "outputs": [],
   "source": [
    "import time # Necessary to evaluate frugality\n",
    "import json # Necessary to export your results\n",
    "## Other packages \n",
    "import prettytable"
   ]
  },
  {
   "cell_type": "markdown",
   "metadata": {},
   "source": [
    "<b> 2) Implementation of the rules that generate control dictionaries </b>"
   ]
  },
  {
   "cell_type": "code",
   "execution_count": 5,
   "metadata": {},
   "outputs": [],
   "source": [
    "def naive_rule_based_strategy(building):\n",
    "    \n",
    "    building_data = building.get_updated_values()\n",
    "\n",
    "    total_building_cost = 0\n",
    "\n",
    "    while building.done == False:\n",
    "        \n",
    "        load = building_data['load']\n",
    "        pv = building_data['pv']\n",
    "        capa_to_charge = building_data['capa_to_charge']\n",
    "        capa_to_dischare = building_data['capa_to_discharge']\n",
    "        grid_status = building_data['grid_status']\n",
    "        \n",
    "        if load - pv >=  0:\n",
    "            if grid_status == 1:\n",
    "                control_dict = {\n",
    "                    'battery_charge': 0,\n",
    "                    'battery_discharge': min(capa_to_dischare, load-pv),\n",
    "                    'grid_import': max(0, load-pv-min(capa_to_dischare, load-pv)),\n",
    "                    'grid_export':0,\n",
    "                    'pv_consummed':pv,\n",
    "                    'genset':0,\n",
    "                }\n",
    "            else:\n",
    "                control_dict = {\n",
    "                    'battery_charge': 0,\n",
    "                    'battery_discharge': min(capa_to_dischare, load-pv),\n",
    "                    'grid_import': 0,\n",
    "                    'grid_export':0,\n",
    "                    'pv_consummed':pv,\n",
    "                    'genset':max(0, load-pv-min(capa_to_dischare, load-pv)),\n",
    "               }\n",
    "        else:\n",
    "            control_dict = {\n",
    "                'battery_charge': min(pv-load,capa_to_charge),\n",
    "                'battery_discharge': 0,\n",
    "                'grid_import': 0,\n",
    "                'grid_export':pv-load-min(pv-load,capa_to_charge),\n",
    "                'pv_consummed':pv,\n",
    "                'genset':0,\n",
    "            } \n",
    "            \n",
    "        building_data = building.run(control_dict)\n",
    "        total_building_cost += building.get_cost()\n",
    "    \n",
    "    return total_building_cost"
   ]
  },
  {
   "cell_type": "markdown",
   "metadata": {},
   "source": [
    "<b> 3) Run of the rules on the Test environment </b>"
   ]
  },
  {
   "cell_type": "code",
   "execution_count": 6,
   "metadata": {},
   "outputs": [],
   "source": [
    "\"\"\"\n",
    "Rule based methods have no \"training\" as such, this means Training CPU Time will always be 0 and only\n",
    "Test CPU Time will represent frugality\n",
    "\"\"\"\n",
    "\n",
    "eval_start = time.process_time()\n",
    "\n",
    "total_building_costs = []\n",
    "\n",
    "for building in buildings:\n",
    "\n",
    "    building.reset(testing = True)\n",
    "\n",
    "    total_building_cost = naive_rule_based_strategy(building)\n",
    "    total_building_costs.append(total_building_cost)\n",
    "\n",
    "eval_end = time.process_time()\n",
    "\n"
   ]
  },
  {
   "cell_type": "code",
   "execution_count": 7,
   "metadata": {},
   "outputs": [],
   "source": [
    "total_cost_building_1 = total_building_costs[0]\n",
    "total_cost_building_2 = total_building_costs[1]\n",
    "total_cost_building_3 = total_building_costs[2]"
   ]
  },
  {
   "cell_type": "code",
   "execution_count": 8,
   "metadata": {},
   "outputs": [],
   "source": [
    "frugality = eval_end - eval_start"
   ]
  },
  {
   "cell_type": "markdown",
   "metadata": {},
   "source": [
    "<b> 4) Store & Export Results in JSON format </b>"
   ]
  },
  {
   "cell_type": "code",
   "execution_count": 9,
   "metadata": {},
   "outputs": [
    {
     "name": "stdout",
     "output_type": "stream",
     "text": [
      "+---------------------------------------------+\n",
      "|      Results of the rule-based approach     |\n",
      "+------------------------+--------------------+\n",
      "|         Metric         |       Value        |\n",
      "+------------------------+--------------------+\n",
      "| building_1_performance | 3892.4729759710326 |\n",
      "| building_2_performance | 12979.227395654525 |\n",
      "| building_3_performance | 14985.67053537833  |\n",
      "|       frugality        | 3.8553720000000005 |\n",
      "+------------------------+--------------------+\n"
     ]
    }
   ],
   "source": [
    "final_results = {\n",
    "    \"building_1_performance\" : total_cost_building_1,\n",
    "    \"building_2_performance\" : total_cost_building_2,\n",
    "    \"building_3_performance\" : total_cost_building_3,\n",
    "    \"frugality\" : frugality,\n",
    "}\n",
    "\n",
    "# print(list(final_results.items()))\n",
    "\n",
    "x = prettytable.PrettyTable()\n",
    "x.title = \"Results of the rule-based approach\"\n",
    "x.field_names = [\"Metric\", \"Value\"]\n",
    "for el in list(final_results.items()):\n",
    "    x.add_row(el)\n",
    "print(x)"
   ]
  }
 ],
 "metadata": {
  "hide_input": false,
  "kernelspec": {
   "display_name": "hiparis",
   "language": "python",
   "name": "hiparis"
  },
  "language_info": {
   "codemirror_mode": {
    "name": "ipython",
    "version": 3
   },
   "file_extension": ".py",
   "mimetype": "text/x-python",
   "name": "python",
   "nbconvert_exporter": "python",
   "pygments_lexer": "ipython3",
   "version": "3.8.0"
  }
 },
 "nbformat": 4,
 "nbformat_minor": 4
}
