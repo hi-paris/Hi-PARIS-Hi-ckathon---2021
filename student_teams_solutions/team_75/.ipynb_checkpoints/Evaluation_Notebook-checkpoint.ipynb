{
 "cells": [
  {
   "cell_type": "markdown",
   "metadata": {
    "id": "DwaPfo-nz-Pj"
   },
   "source": [
    "# Submission Notebook"
   ]
  },
  {
   "cell_type": "markdown",
   "metadata": {
    "id": "dT91jXcZCJwO"
   },
   "source": [
    "This is a rule based approach."
   ]
  },
  {
   "cell_type": "markdown",
   "metadata": {
    "id": "UY9kD5Md0lZe"
   },
   "source": [
    "## Part I : Data Preparation"
   ]
  },
  {
   "cell_type": "markdown",
   "metadata": {
    "id": "PbEL7HNY0B9H"
   },
   "source": [
    "Package installation"
   ]
  },
  {
   "cell_type": "code",
   "execution_count": null,
   "metadata": {
    "colab": {
     "base_uri": "https://localhost:8080/"
    },
    "id": "g0HBnD75z2na",
    "outputId": "a2a6745b-afeb-4379-91b1-6c0bfd4a36d3"
   },
   "outputs": [
    {
     "name": "stdout",
     "output_type": "stream",
     "text": [
      "Collecting git+https://github.com/Total-RD/pymgrid/\n",
      "  Cloning https://github.com/Total-RD/pymgrid/ to /tmp/pip-req-build-eqi9avhe\n",
      "  Running command git clone -q https://github.com/Total-RD/pymgrid/ /tmp/pip-req-build-eqi9avhe\n",
      "Requirement already satisfied (use --upgrade to upgrade): pymgrid==0.1.0 from git+https://github.com/Total-RD/pymgrid/ in /usr/local/lib/python3.7/dist-packages\n",
      "Requirement already satisfied: requests in /usr/local/lib/python3.7/dist-packages (from pymgrid==0.1.0) (2.23.0)\n",
      "Requirement already satisfied: pandas in /usr/local/lib/python3.7/dist-packages (from pymgrid==0.1.0) (1.1.5)\n",
      "Requirement already satisfied: numpy in /usr/local/lib/python3.7/dist-packages (from pymgrid==0.1.0) (1.19.5)\n",
      "Requirement already satisfied: cvxpy in /usr/local/lib/python3.7/dist-packages (from pymgrid==0.1.0) (1.0.31)\n",
      "Requirement already satisfied: statsmodels in /usr/local/lib/python3.7/dist-packages (from pymgrid==0.1.0) (0.10.2)\n",
      "Requirement already satisfied: matplotlib in /usr/local/lib/python3.7/dist-packages (from pymgrid==0.1.0) (3.2.2)\n",
      "Requirement already satisfied: plotly in /usr/local/lib/python3.7/dist-packages (from pymgrid==0.1.0) (4.4.1)\n",
      "Requirement already satisfied: cufflinks in /usr/local/lib/python3.7/dist-packages (from pymgrid==0.1.0) (0.17.3)\n",
      "Requirement already satisfied: gym in /usr/local/lib/python3.7/dist-packages (from pymgrid==0.1.0) (0.17.3)\n",
      "Requirement already satisfied: urllib3!=1.25.0,!=1.25.1,<1.26,>=1.21.1 in /usr/local/lib/python3.7/dist-packages (from requests->pymgrid==0.1.0) (1.24.3)\n",
      "Requirement already satisfied: idna<3,>=2.5 in /usr/local/lib/python3.7/dist-packages (from requests->pymgrid==0.1.0) (2.10)\n",
      "Requirement already satisfied: certifi>=2017.4.17 in /usr/local/lib/python3.7/dist-packages (from requests->pymgrid==0.1.0) (2020.12.5)\n",
      "Requirement already satisfied: chardet<4,>=3.0.2 in /usr/local/lib/python3.7/dist-packages (from requests->pymgrid==0.1.0) (3.0.4)\n",
      "Requirement already satisfied: python-dateutil>=2.7.3 in /usr/local/lib/python3.7/dist-packages (from pandas->pymgrid==0.1.0) (2.8.1)\n",
      "Requirement already satisfied: pytz>=2017.2 in /usr/local/lib/python3.7/dist-packages (from pandas->pymgrid==0.1.0) (2018.9)\n",
      "Requirement already satisfied: ecos>=2 in /usr/local/lib/python3.7/dist-packages (from cvxpy->pymgrid==0.1.0) (2.0.7.post1)\n",
      "Requirement already satisfied: scs>=1.1.3 in /usr/local/lib/python3.7/dist-packages (from cvxpy->pymgrid==0.1.0) (2.1.2)\n",
      "Requirement already satisfied: scipy>=1.1.0 in /usr/local/lib/python3.7/dist-packages (from cvxpy->pymgrid==0.1.0) (1.4.1)\n",
      "Requirement already satisfied: osqp>=0.4.1 in /usr/local/lib/python3.7/dist-packages (from cvxpy->pymgrid==0.1.0) (0.6.2.post0)\n",
      "Requirement already satisfied: multiprocess in /usr/local/lib/python3.7/dist-packages (from cvxpy->pymgrid==0.1.0) (0.70.11.1)\n",
      "Requirement already satisfied: patsy>=0.4.0 in /usr/local/lib/python3.7/dist-packages (from statsmodels->pymgrid==0.1.0) (0.5.1)\n",
      "Requirement already satisfied: pyparsing!=2.0.4,!=2.1.2,!=2.1.6,>=2.0.1 in /usr/local/lib/python3.7/dist-packages (from matplotlib->pymgrid==0.1.0) (2.4.7)\n",
      "Requirement already satisfied: cycler>=0.10 in /usr/local/lib/python3.7/dist-packages (from matplotlib->pymgrid==0.1.0) (0.10.0)\n",
      "Requirement already satisfied: kiwisolver>=1.0.1 in /usr/local/lib/python3.7/dist-packages (from matplotlib->pymgrid==0.1.0) (1.3.1)\n",
      "Requirement already satisfied: six in /usr/local/lib/python3.7/dist-packages (from plotly->pymgrid==0.1.0) (1.15.0)\n",
      "Requirement already satisfied: retrying>=1.3.3 in /usr/local/lib/python3.7/dist-packages (from plotly->pymgrid==0.1.0) (1.3.3)\n",
      "Requirement already satisfied: ipywidgets>=7.0.0 in /usr/local/lib/python3.7/dist-packages (from cufflinks->pymgrid==0.1.0) (7.6.3)\n",
      "Requirement already satisfied: ipython>=5.3.0 in /usr/local/lib/python3.7/dist-packages (from cufflinks->pymgrid==0.1.0) (5.5.0)\n",
      "Requirement already satisfied: colorlover>=0.2.1 in /usr/local/lib/python3.7/dist-packages (from cufflinks->pymgrid==0.1.0) (0.3.0)\n",
      "Requirement already satisfied: setuptools>=34.4.1 in /usr/local/lib/python3.7/dist-packages (from cufflinks->pymgrid==0.1.0) (54.0.0)\n",
      "Requirement already satisfied: pyglet<=1.5.0,>=1.4.0 in /usr/local/lib/python3.7/dist-packages (from gym->pymgrid==0.1.0) (1.5.0)\n",
      "Requirement already satisfied: cloudpickle<1.7.0,>=1.2.0 in /usr/local/lib/python3.7/dist-packages (from gym->pymgrid==0.1.0) (1.3.0)\n",
      "Requirement already satisfied: qdldl in /usr/local/lib/python3.7/dist-packages (from osqp>=0.4.1->cvxpy->pymgrid==0.1.0) (0.1.5.post0)\n",
      "Requirement already satisfied: dill>=0.3.3 in /usr/local/lib/python3.7/dist-packages (from multiprocess->cvxpy->pymgrid==0.1.0) (0.3.3)\n",
      "Requirement already satisfied: ipykernel>=4.5.1 in /usr/local/lib/python3.7/dist-packages (from ipywidgets>=7.0.0->cufflinks->pymgrid==0.1.0) (4.10.1)\n",
      "Requirement already satisfied: jupyterlab-widgets>=1.0.0; python_version >= \"3.6\" in /usr/local/lib/python3.7/dist-packages (from ipywidgets>=7.0.0->cufflinks->pymgrid==0.1.0) (1.0.0)\n",
      "Requirement already satisfied: traitlets>=4.3.1 in /usr/local/lib/python3.7/dist-packages (from ipywidgets>=7.0.0->cufflinks->pymgrid==0.1.0) (5.0.5)\n",
      "Requirement already satisfied: nbformat>=4.2.0 in /usr/local/lib/python3.7/dist-packages (from ipywidgets>=7.0.0->cufflinks->pymgrid==0.1.0) (5.1.2)\n",
      "Requirement already satisfied: widgetsnbextension~=3.5.0 in /usr/local/lib/python3.7/dist-packages (from ipywidgets>=7.0.0->cufflinks->pymgrid==0.1.0) (3.5.1)\n",
      "Requirement already satisfied: decorator in /usr/local/lib/python3.7/dist-packages (from ipython>=5.3.0->cufflinks->pymgrid==0.1.0) (4.4.2)\n",
      "Requirement already satisfied: pickleshare in /usr/local/lib/python3.7/dist-packages (from ipython>=5.3.0->cufflinks->pymgrid==0.1.0) (0.7.5)\n",
      "Requirement already satisfied: pygments in /usr/local/lib/python3.7/dist-packages (from ipython>=5.3.0->cufflinks->pymgrid==0.1.0) (2.6.1)\n",
      "Requirement already satisfied: pexpect; sys_platform != \"win32\" in /usr/local/lib/python3.7/dist-packages (from ipython>=5.3.0->cufflinks->pymgrid==0.1.0) (4.8.0)\n",
      "Requirement already satisfied: prompt-toolkit<2.0.0,>=1.0.4 in /usr/local/lib/python3.7/dist-packages (from ipython>=5.3.0->cufflinks->pymgrid==0.1.0) (1.0.18)\n",
      "Requirement already satisfied: simplegeneric>0.8 in /usr/local/lib/python3.7/dist-packages (from ipython>=5.3.0->cufflinks->pymgrid==0.1.0) (0.8.1)\n",
      "Requirement already satisfied: future in /usr/local/lib/python3.7/dist-packages (from pyglet<=1.5.0,>=1.4.0->gym->pymgrid==0.1.0) (0.16.0)\n",
      "Requirement already satisfied: jupyter-client in /usr/local/lib/python3.7/dist-packages (from ipykernel>=4.5.1->ipywidgets>=7.0.0->cufflinks->pymgrid==0.1.0) (5.3.5)\n",
      "Requirement already satisfied: tornado>=4.0 in /usr/local/lib/python3.7/dist-packages (from ipykernel>=4.5.1->ipywidgets>=7.0.0->cufflinks->pymgrid==0.1.0) (5.1.1)\n",
      "Requirement already satisfied: ipython-genutils in /usr/local/lib/python3.7/dist-packages (from traitlets>=4.3.1->ipywidgets>=7.0.0->cufflinks->pymgrid==0.1.0) (0.2.0)\n",
      "Requirement already satisfied: jupyter-core in /usr/local/lib/python3.7/dist-packages (from nbformat>=4.2.0->ipywidgets>=7.0.0->cufflinks->pymgrid==0.1.0) (4.7.1)\n",
      "Requirement already satisfied: jsonschema!=2.5.0,>=2.4 in /usr/local/lib/python3.7/dist-packages (from nbformat>=4.2.0->ipywidgets>=7.0.0->cufflinks->pymgrid==0.1.0) (2.6.0)\n",
      "Requirement already satisfied: notebook>=4.4.1 in /usr/local/lib/python3.7/dist-packages (from widgetsnbextension~=3.5.0->ipywidgets>=7.0.0->cufflinks->pymgrid==0.1.0) (5.3.1)\n",
      "Requirement already satisfied: ptyprocess>=0.5 in /usr/local/lib/python3.7/dist-packages (from pexpect; sys_platform != \"win32\"->ipython>=5.3.0->cufflinks->pymgrid==0.1.0) (0.7.0)\n",
      "Requirement already satisfied: wcwidth in /usr/local/lib/python3.7/dist-packages (from prompt-toolkit<2.0.0,>=1.0.4->ipython>=5.3.0->cufflinks->pymgrid==0.1.0) (0.2.5)\n",
      "Requirement already satisfied: pyzmq>=13 in /usr/local/lib/python3.7/dist-packages (from jupyter-client->ipykernel>=4.5.1->ipywidgets>=7.0.0->cufflinks->pymgrid==0.1.0) (22.0.3)\n",
      "Requirement already satisfied: jinja2 in /usr/local/lib/python3.7/dist-packages (from notebook>=4.4.1->widgetsnbextension~=3.5.0->ipywidgets>=7.0.0->cufflinks->pymgrid==0.1.0) (2.11.3)\n",
      "Requirement already satisfied: terminado>=0.8.1 in /usr/local/lib/python3.7/dist-packages (from notebook>=4.4.1->widgetsnbextension~=3.5.0->ipywidgets>=7.0.0->cufflinks->pymgrid==0.1.0) (0.9.2)\n",
      "Requirement already satisfied: nbconvert in /usr/local/lib/python3.7/dist-packages (from notebook>=4.4.1->widgetsnbextension~=3.5.0->ipywidgets>=7.0.0->cufflinks->pymgrid==0.1.0) (5.6.1)\n",
      "Requirement already satisfied: Send2Trash in /usr/local/lib/python3.7/dist-packages (from notebook>=4.4.1->widgetsnbextension~=3.5.0->ipywidgets>=7.0.0->cufflinks->pymgrid==0.1.0) (1.5.0)\n",
      "Requirement already satisfied: MarkupSafe>=0.23 in /usr/local/lib/python3.7/dist-packages (from jinja2->notebook>=4.4.1->widgetsnbextension~=3.5.0->ipywidgets>=7.0.0->cufflinks->pymgrid==0.1.0) (1.1.1)\n",
      "Requirement already satisfied: entrypoints>=0.2.2 in /usr/local/lib/python3.7/dist-packages (from nbconvert->notebook>=4.4.1->widgetsnbextension~=3.5.0->ipywidgets>=7.0.0->cufflinks->pymgrid==0.1.0) (0.3)\n",
      "Requirement already satisfied: bleach in /usr/local/lib/python3.7/dist-packages (from nbconvert->notebook>=4.4.1->widgetsnbextension~=3.5.0->ipywidgets>=7.0.0->cufflinks->pymgrid==0.1.0) (3.3.0)\n",
      "Requirement already satisfied: mistune<2,>=0.8.1 in /usr/local/lib/python3.7/dist-packages (from nbconvert->notebook>=4.4.1->widgetsnbextension~=3.5.0->ipywidgets>=7.0.0->cufflinks->pymgrid==0.1.0) (0.8.4)\n",
      "Requirement already satisfied: pandocfilters>=1.4.1 in /usr/local/lib/python3.7/dist-packages (from nbconvert->notebook>=4.4.1->widgetsnbextension~=3.5.0->ipywidgets>=7.0.0->cufflinks->pymgrid==0.1.0) (1.4.3)\n",
      "Requirement already satisfied: defusedxml in /usr/local/lib/python3.7/dist-packages (from nbconvert->notebook>=4.4.1->widgetsnbextension~=3.5.0->ipywidgets>=7.0.0->cufflinks->pymgrid==0.1.0) (0.7.0)\n",
      "Requirement already satisfied: testpath in /usr/local/lib/python3.7/dist-packages (from nbconvert->notebook>=4.4.1->widgetsnbextension~=3.5.0->ipywidgets>=7.0.0->cufflinks->pymgrid==0.1.0) (0.4.4)\n",
      "Requirement already satisfied: packaging in /usr/local/lib/python3.7/dist-packages (from bleach->nbconvert->notebook>=4.4.1->widgetsnbextension~=3.5.0->ipywidgets>=7.0.0->cufflinks->pymgrid==0.1.0) (20.9)\n",
      "Requirement already satisfied: webencodings in /usr/local/lib/python3.7/dist-packages (from bleach->nbconvert->notebook>=4.4.1->widgetsnbextension~=3.5.0->ipywidgets>=7.0.0->cufflinks->pymgrid==0.1.0) (0.5.1)\n",
      "Building wheels for collected packages: pymgrid\n",
      "  Building wheel for pymgrid (setup.py) ... \u001b[?25l\u001b[?25hdone\n",
      "  Created wheel for pymgrid: filename=pymgrid-0.1.0-cp37-none-any.whl size=3424316 sha256=c5fe7da89ba2a602c1703aac107841f43cd3f777a3d209011b4c3fc155315c0d\n",
      "  Stored in directory: /tmp/pip-ephem-wheel-cache-9497ddu7/wheels/b9/cd/f9/5ebf7c874ff90d3fa2c288536524ec639b3aa2be1af92d6fb7\n",
      "Successfully built pymgrid\n",
      "\u001b[31mERROR: Could not find a version that satisfies the requirement pickle (from versions: none)\u001b[0m\n",
      "\u001b[31mERROR: No matching distribution found for pickle\u001b[0m\n",
      "\u001b[31mERROR: Could not find a version that satisfies the requirement json (from versions: none)\u001b[0m\n",
      "\u001b[31mERROR: No matching distribution found for json\u001b[0m\n"
     ]
    }
   ],
   "source": [
    "!pip install git+https://github.com/Total-RD/pymgrid/\n",
    "!pip install pickle\n",
    "!pip install json"
   ]
  },
  {
   "cell_type": "markdown",
   "metadata": {
    "id": "3BP62oVS0R_-"
   },
   "source": [
    "Imports"
   ]
  },
  {
   "cell_type": "code",
   "execution_count": 1,
   "metadata": {
    "id": "K4lq81tz0Srk"
   },
   "outputs": [],
   "source": [
    "import pickle  # Needed for us to parse the building definition files\n",
    "import json    # Needed to save the files\n",
    "import time    # Allows us to provide a time estimate of the frugality of our approach"
   ]
  },
  {
   "cell_type": "markdown",
   "metadata": {
    "id": "hLy9LgXI0jo1"
   },
   "source": [
    "Loading resources"
   ]
  },
  {
   "cell_type": "code",
   "execution_count": 3,
   "metadata": {
    "id": "5tf7Xwee0kXP"
   },
   "outputs": [],
   "source": [
    "\"\"\"\n",
    "The buildings mentionned below are specific to the hackathon and are not available in this repo.\n",
    "You can replace them with any MicroGrid object generated from pymgrid\n",
    "\"\"\"\n",
    "\n",
    "buildings = []\n",
    "\n",
    "\n",
    "\n",
    "for building_file in ['building_1.pkl','building_2.pkl','building_3.pkl']:\n",
    "    with open(building_file, 'rb') as f:   # We load in our building definition files in memory\n",
    "        building = pickle.load(f)          # We parse their content to extract their useful data\n",
    "        building.train_test_split()        # The data is split into a training and testing set\n",
    "        buildings.append(building)"
   ]
  },
  {
   "cell_type": "markdown",
   "metadata": {
    "id": "2W24EYmH0y51"
   },
   "source": [
    "## Part II : Definition of the strategy"
   ]
  },
  {
   "cell_type": "markdown",
   "metadata": {
    "id": "cH8mPCMr03i9"
   },
   "source": [
    "This helper function helps us return the appropriate control dictionary depending on the overall action we want to perform."
   ]
  },
  {
   "cell_type": "code",
   "execution_count": 4,
   "metadata": {
    "id": "oJq_M1wk02LC"
   },
   "outputs": [],
   "source": [
    "def action_to_control_dict(building_state, action):\n",
    "    '''\n",
    "    Arguments :\n",
    "    - building_state : the building object, from which we extract informations\n",
    "    - action : a string describing the action\n",
    "    Returns the control dictionary corresponding to the action\n",
    "    '''\n",
    "\n",
    "    ### First, retreive the important informations\n",
    "\n",
    "    # We retrieve the power output coming from the solar arrays\n",
    "    pv = building_state.pv\n",
    "    # And the current load that is imposed on it\n",
    "    load = building_state.load\n",
    "\n",
    "    # We want to use up all the energy possible from the solar arrays,\n",
    "    # hence what remains to be produced is the difference between the\n",
    "    # load and their output\n",
    "    net_load = load - pv\n",
    "\n",
    "    # We check whether there is an outage or not\n",
    "    status = building_state.grid.status\n",
    "\n",
    "    # We retrieve data about the battery from those properties to be able to\n",
    "    # interact with it\n",
    "    capa_to_charge = building_state.battery.capa_to_charge\n",
    "    p_charge_max = building_state.battery.p_charge_max \n",
    "    capa_to_discharge = building_state.battery.capa_to_discharge\n",
    "    p_discharge_max = building_state.battery.p_discharge_max                                                                     \n",
    "\n",
    "    # 0 <= what we can put in the battery <= -net load\n",
    "    p_charge_pv = max(0, min(-net_load, capa_to_charge, p_charge_max))\n",
    "    # Same reasoning for what we can give back    \n",
    "    p_charge_grid = max(0, min( capa_to_charge, p_charge_max))\n",
    "    # Same reasoning for discharging the battery\n",
    "    p_discharge = max(0, min(net_load, capa_to_discharge, p_discharge_max))\n",
    "    \n",
    "    # Relevant for building 3 : if the building has a generator, we retrieve its capacity\n",
    "    if hasattr(building_state, 'genset'):                                                   \n",
    "        capa_to_genset = building_state.genset.rated_power * building_state.genset.p_max\n",
    "    else:\n",
    "        capa_to_genset = 0\n",
    "    p_genset = max(0, min(net_load, capa_to_genset))\n",
    "\n",
    "    ### Second, Define the discrete actions used in our strategy\n",
    "\n",
    "    # In this case we charge the battery and use the solar arrays\n",
    "    if action == 'pv':\n",
    "        control_dict = {'pv_consummed': min(pv, load),\n",
    "                        'battery_charge': p_charge_pv,\n",
    "                        'battery_discharge': 0,\n",
    "                        'grid_import': 0,\n",
    "                        'grid_export': max(0, pv - min(pv, load) - p_charge_pv),\n",
    "                        'genset': 0\n",
    "                        }\n",
    "\n",
    "    # We discharge the battery to meet the building's energy requirement, and import from grid if needed\n",
    "    elif action == 'discharge':\n",
    "        control_dict = {'pv_consummed': min(pv, load),\n",
    "                        'battery_charge': 0,\n",
    "                        'battery_discharge': p_discharge,\n",
    "                        'grid_import': max(0, load - min(pv, load) - p_discharge),\n",
    "                        'grid_export': 0,\n",
    "                        'genset': 0\n",
    "                        }\n",
    "\n",
    "    # We make use of the grid to meet the buildin't energy requirement, and don't interact with the battery\n",
    "    elif action == 'grid':\n",
    "        control_dict = {'pv_consummed': min(pv, load),\n",
    "                        'battery_charge': 0,\n",
    "                        'battery_discharge': 0,\n",
    "                        'grid_import': max(0, net_load),\n",
    "                        'grid_export': 0,\n",
    "                        'genset': 0\n",
    "                        }\n",
    "    \n",
    "    # Charge the battery using the grid, and if can't, import or export the excedent\n",
    "    elif action == 'charge':\n",
    "        load = load + p_charge_grid\n",
    "        control_dict = {'pv_consummed': min(pv, load),\n",
    "                        'battery_charge': p_charge_grid,\n",
    "                        'battery_discharge': 0,\n",
    "                        'grid_import': max(0, load - min(pv, load)),\n",
    "                        'grid_export': max(0, pv - min(pv, load) - p_charge_grid) ,\n",
    "                        'genset': 0\n",
    "                        }\n",
    "\n",
    "    # Use the genset and battery to meet the buildin't energy requirement, completely off-grid\n",
    "    elif action == 'genset':\n",
    "        control_dict = {'pv_consummed': min(pv, load),\n",
    "                        'battery_charge': 0,\n",
    "                        'battery_discharge': p_discharge,\n",
    "                        'grid_import': 0,\n",
    "                        'grid_export': 0,\n",
    "                        'genset': max(0, load - min(pv, load) - p_discharge),\n",
    "                        }\n",
    "\n",
    "    # If the control dict is not available, the action is not a valid one\n",
    "    if control_dict is None:\n",
    "        print('Error : the action does not exist')\n",
    "\n",
    "    # Getting what discrete actions we could perform on the building\n",
    "    control_dict_keys = building_state.get_control_dict()\n",
    "\n",
    "    # We add the missing keys to the control dictionary\n",
    "    for k in control_dict_keys:\n",
    "        if k not in control_dict:\n",
    "            control_dict[k] = 0\n",
    "\n",
    "    return control_dict"
   ]
  },
  {
   "cell_type": "markdown",
   "metadata": {
    "id": "5tkLMm7w2lVF"
   },
   "source": [
    "Implementation of our algorithm"
   ]
  },
  {
   "cell_type": "code",
   "execution_count": 5,
   "metadata": {
    "id": "UJ4QoBXx2m1b"
   },
   "outputs": [],
   "source": [
    "def rule_based_strategy(building):\n",
    "\n",
    "    # We retrieve up-to-date data about the building\n",
    "    building_data = building.get_updated_values()\n",
    "\n",
    "    # Initialises a counter to keep track of the algorithm's efficiency\n",
    "    total_building_cost = 0\n",
    "\n",
    "    while not building.done:\n",
    "\n",
    "        # We get data from the building's state\n",
    "        load = building_data['load']\n",
    "        pv = building_data['pv']\n",
    "        capa_to_charge = building_data['capa_to_charge']\n",
    "        capa_to_dischare = building_data['capa_to_discharge']\n",
    "        battery_soc = building_data['battery_soc']\n",
    "        grid_co2 = building_data['grid_co2']\n",
    "        grid_price_import = building_data['grid_price_import']\n",
    "        grid_price_export = building_data['grid_price_export']\n",
    "\n",
    "        # 0.3 is the price below which electricity is considered cheap\n",
    "        # This value has been selected because the price of electricity can take 3 values :\n",
    "        # 0.19, 0.29 and 0.65. The third price is obvisouly \"big\" and the other ones \"small\"\n",
    "        elec_is_cheap = grid_price_import < 0.3                                             \n",
    "\n",
    "        # Is the battery empty ? \n",
    "        # To account for floating point errors, eps=1e5 is added      \n",
    "        bat_is_not_empty = battery_soc > building.battery.soc_min + 1e-5\n",
    "\n",
    "        # We check whether there is an outage or not. \n",
    "        # If there is, we know that we are in building 3 and therfore we have a genset\n",
    "        use_genset = (building_data['grid_status']==0)\n",
    "\n",
    "        # We check whether there is fuel generator or not\n",
    "        has_gen_set = hasattr(building, 'genset')\n",
    "\n",
    "        # Computing what we can acceptably get from the battery's discharge\n",
    "        p_disc = max(0, min(load-pv, capa_to_dischare, building.battery.p_discharge_max))\n",
    "        # Conversely, he amound up to which we can potentially charge the battery\n",
    "        p_char = max(0, min(pv-load, capa_to_charge, building.battery.p_charge_max))\n",
    "        \n",
    "        # The 6 following conditions do not overlap\n",
    "\n",
    "        # 1\n",
    "        # In this case we try to get the maximum energy from the battery since\n",
    "        # electricity is expensive, but we can still get it from the grid if\n",
    "        # absolutely needed\n",
    "        if load >= pv and not elec_is_cheap and not use_genset:                                                \n",
    "            control_dict = action_to_control_dict(building, 'discharge')\n",
    "        \n",
    "        # 2\n",
    "        # Here, if electricity is cheap, we just rely on the grid,\n",
    "        # the battery is not needed\n",
    "        if load >= pv and elec_is_cheap and bat_is_not_empty and not has_gen_set:\n",
    "            control_dict = action_to_control_dict(building, 'grid')               \n",
    "        \n",
    "        # 3\n",
    "        # The battery is empty, we can charge it with the grid and\n",
    "        # import or export the excedent for the building\n",
    "        if load >= pv and elec_is_cheap and not bat_is_not_empty and not has_gen_set:                           \n",
    "            control_dict = action_to_control_dict(building, 'charge')                                         \n",
    "\n",
    "        # 4\n",
    "        # The battery is empty, but because there is a risk of outage,\n",
    "        # it is better to keep the battery full\n",
    "        if load >= pv and elec_is_cheap and has_gen_set and not use_genset:\n",
    "            control_dict = action_to_control_dict(building, 'charge')\n",
    "        \n",
    "        # 5\n",
    "        # We can rely fully on the solar arrays to power the building\n",
    "        if pv > load:\n",
    "            control_dict = action_to_control_dict(building, 'pv')\n",
    "        \n",
    "        # 6\n",
    "        # The grid is unavailable, so we use the genset to power the building\n",
    "        if load >= pv and use_genset:\n",
    "            control_dict = action_to_control_dict(building, 'genset')\n",
    "\n",
    "        \n",
    "\n",
    "        # We apply out choice for this step\n",
    "        building_data = building.run(control_dict)\n",
    "        # We add on to the total cost                                              \n",
    "        total_building_cost += building.get_cost()                                      \n",
    "    \n",
    "    return total_building_cost"
   ]
  },
  {
   "cell_type": "markdown",
   "metadata": {
    "id": "EYqsYNj64Xps"
   },
   "source": [
    "## Part III : Evaluation the strategy"
   ]
  },
  {
   "cell_type": "markdown",
   "metadata": {
    "id": "juriE6YX5QQD"
   },
   "source": [
    "Run of the rules on the Test environment"
   ]
  },
  {
   "cell_type": "code",
   "execution_count": 6,
   "metadata": {
    "id": "u74mmTlt4edb"
   },
   "outputs": [],
   "source": [
    "eval_start = time.process_time()\n",
    "\n",
    "total_building_costs = []\n",
    "\n",
    "for building in buildings:\n",
    "\n",
    "    building.reset(testing = True)\n",
    "\n",
    "    total_building_cost = rule_based_strategy(building)\n",
    "    total_building_costs.append(total_building_cost)\n",
    "\n",
    "eval_end = time.process_time()"
   ]
  },
  {
   "cell_type": "code",
   "execution_count": 7,
   "metadata": {
    "id": "Pw59T1Bk5Fy0"
   },
   "outputs": [],
   "source": [
    "total_cost_building_1 = total_building_costs[0]\n",
    "total_cost_building_2 = total_building_costs[1]\n",
    "total_cost_building_3 = total_building_costs[2]"
   ]
  },
  {
   "cell_type": "code",
   "execution_count": 8,
   "metadata": {
    "id": "LYb_QaeK9EP0"
   },
   "outputs": [],
   "source": [
    "frugality = eval_end - eval_start"
   ]
  },
  {
   "cell_type": "markdown",
   "metadata": {
    "id": "6GT7Wkao5U4V"
   },
   "source": [
    " Store & Export Results in JSON format"
   ]
  },
  {
   "cell_type": "code",
   "execution_count": 9,
   "metadata": {
    "colab": {
     "base_uri": "https://localhost:8080/"
    },
    "id": "5KHbkSDm5Uj9",
    "outputId": "7448f314-a3f0-48e0-da74-e98aa1b768e5"
   },
   "outputs": [
    {
     "name": "stdout",
     "output_type": "stream",
     "text": [
      "{'building_1_performance': 3870.5571772889534, 'building_2_performance': 12902.227056375661, 'building_3_performance': 14147.334314882995, 'frugality': 3.82365}\n"
     ]
    }
   ],
   "source": [
    "final_results = {\n",
    "    \"building_1_performance\" : total_cost_building_1,\n",
    "    \"building_2_performance\" : total_cost_building_2,\n",
    "    \"building_3_performance\" : total_cost_building_3,\n",
    "    \"frugality\" : frugality,\n",
    "}\n",
    "print(final_results)"
   ]
  },
  {
   "cell_type": "code",
   "execution_count": null,
   "metadata": {
    "id": "DK2Eqege8kuv"
   },
   "outputs": [],
   "source": []
  }
 ],
 "metadata": {
  "colab": {
   "collapsed_sections": [],
   "name": "Evaluation Notebook.ipynb",
   "provenance": []
  },
  "hide_input": false,
  "kernelspec": {
   "display_name": "hiparis",
   "language": "python",
   "name": "hiparis"
  },
  "language_info": {
   "codemirror_mode": {
    "name": "ipython",
    "version": 3
   },
   "file_extension": ".py",
   "mimetype": "text/x-python",
   "name": "python",
   "nbconvert_exporter": "python",
   "pygments_lexer": "ipython3",
   "version": "3.8.0"
  }
 },
 "nbformat": 4,
 "nbformat_minor": 1
}
