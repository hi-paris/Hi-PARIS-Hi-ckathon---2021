{
 "cells": [
  {
   "cell_type": "markdown",
   "metadata": {},
   "source": [
    "## Submission Notebook Template "
   ]
  },
  {
   "cell_type": "markdown",
   "metadata": {},
   "source": [
    "<h3> <font color='red'> WARNING : </font>  </h3>"
   ]
  },
  {
   "cell_type": "markdown",
   "metadata": {},
   "source": [
    "<font color='red'> No matter which approach you've chosen, you need to re-install any custom packages you had to install to make your code work ! </font>"
   ]
  },
  {
   "cell_type": "code",
   "execution_count": null,
   "metadata": {},
   "outputs": [],
   "source": []
  },
  {
   "cell_type": "markdown",
   "metadata": {},
   "source": [
    "<b> Install your packages below: </b>"
   ]
  },
  {
   "cell_type": "code",
   "execution_count": 1,
   "metadata": {},
   "outputs": [
    {
     "name": "stdout",
     "output_type": "stream",
     "text": [
      "Collecting git+https://github.com/Total-RD/pymgrid/\n",
      "  Cloning https://github.com/Total-RD/pymgrid/ to /tmp/pip-req-build-svlah1mw\n",
      "Requirement already satisfied: requests in /Data/noahsarfati/miniconda3/envs/deepLearning/lib/python3.8/site-packages (from pymgrid==0.1.0) (2.25.0)\n",
      "Requirement already satisfied: pandas in /Data/noahsarfati/miniconda3/envs/deepLearning/lib/python3.8/site-packages (from pymgrid==0.1.0) (1.1.3)\n",
      "Requirement already satisfied: numpy in /Data/noahsarfati/miniconda3/envs/deepLearning/lib/python3.8/site-packages (from pymgrid==0.1.0) (1.18.5)\n",
      "Requirement already satisfied: cvxpy in /Data/noahsarfati/miniconda3/envs/deepLearning/lib/python3.8/site-packages (from pymgrid==0.1.0) (1.1.11)\n",
      "Requirement already satisfied: statsmodels in /Data/noahsarfati/miniconda3/envs/deepLearning/lib/python3.8/site-packages (from pymgrid==0.1.0) (0.12.2)\n",
      "Requirement already satisfied: matplotlib in /Data/noahsarfati/miniconda3/envs/deepLearning/lib/python3.8/site-packages (from pymgrid==0.1.0) (3.3.2)\n",
      "Requirement already satisfied: plotly in /Data/noahsarfati/miniconda3/envs/deepLearning/lib/python3.8/site-packages (from pymgrid==0.1.0) (4.14.3)\n",
      "Requirement already satisfied: cufflinks in /Data/noahsarfati/miniconda3/envs/deepLearning/lib/python3.8/site-packages (from pymgrid==0.1.0) (0.17.3)\n",
      "Requirement already satisfied: gym in /Data/noahsarfati/miniconda3/envs/deepLearning/lib/python3.8/site-packages (from pymgrid==0.1.0) (0.18.0)\n",
      "Requirement already satisfied: pandas in /Data/noahsarfati/miniconda3/envs/deepLearning/lib/python3.8/site-packages (from pymgrid==0.1.0) (1.1.3)\n",
      "Requirement already satisfied: colorlover>=0.2.1 in /Data/noahsarfati/miniconda3/envs/deepLearning/lib/python3.8/site-packages (from cufflinks->pymgrid==0.1.0) (0.3.0)\n",
      "Requirement already satisfied: setuptools>=34.4.1 in /Data/noahsarfati/miniconda3/envs/deepLearning/lib/python3.8/site-packages (from cufflinks->pymgrid==0.1.0) (50.3.2.post20201201)\n",
      "Requirement already satisfied: six>=1.9.0 in /Data/noahsarfati/miniconda3/envs/deepLearning/lib/python3.8/site-packages (from cufflinks->pymgrid==0.1.0) (1.15.0)\n",
      "Requirement already satisfied: ipywidgets>=7.0.0 in /Data/noahsarfati/miniconda3/envs/deepLearning/lib/python3.8/site-packages (from cufflinks->pymgrid==0.1.0) (7.5.1)\n",
      "Requirement already satisfied: ipython>=5.3.0 in /Data/noahsarfati/miniconda3/envs/deepLearning/lib/python3.8/site-packages (from cufflinks->pymgrid==0.1.0) (7.19.0)\n",
      "Requirement already satisfied: numpy in /Data/noahsarfati/miniconda3/envs/deepLearning/lib/python3.8/site-packages (from pymgrid==0.1.0) (1.18.5)\n",
      "Requirement already satisfied: plotly in /Data/noahsarfati/miniconda3/envs/deepLearning/lib/python3.8/site-packages (from pymgrid==0.1.0) (4.14.3)\n",
      "Requirement already satisfied: ecos>=2 in /Data/noahsarfati/miniconda3/envs/deepLearning/lib/python3.8/site-packages (from cvxpy->pymgrid==0.1.0) (2.0.7.post1)\n",
      "Requirement already satisfied: osqp>=0.4.1 in /Data/noahsarfati/miniconda3/envs/deepLearning/lib/python3.8/site-packages (from cvxpy->pymgrid==0.1.0) (0.6.2.post0)\n",
      "Requirement already satisfied: scipy>=1.1.0 in /Data/noahsarfati/miniconda3/envs/deepLearning/lib/python3.8/site-packages (from cvxpy->pymgrid==0.1.0) (1.5.2)\n",
      "Requirement already satisfied: scs>=1.1.6 in /Data/noahsarfati/miniconda3/envs/deepLearning/lib/python3.8/site-packages (from cvxpy->pymgrid==0.1.0) (2.1.2)\n",
      "Requirement already satisfied: numpy in /Data/noahsarfati/miniconda3/envs/deepLearning/lib/python3.8/site-packages (from pymgrid==0.1.0) (1.18.5)\n",
      "Requirement already satisfied: scipy>=1.1.0 in /Data/noahsarfati/miniconda3/envs/deepLearning/lib/python3.8/site-packages (from cvxpy->pymgrid==0.1.0) (1.5.2)\n",
      "Requirement already satisfied: numpy in /Data/noahsarfati/miniconda3/envs/deepLearning/lib/python3.8/site-packages (from pymgrid==0.1.0) (1.18.5)\n",
      "Requirement already satisfied: Pillow<=7.2.0 in /Data/noahsarfati/miniconda3/envs/deepLearning/lib/python3.8/site-packages (from gym->pymgrid==0.1.0) (7.2.0)\n",
      "Requirement already satisfied: numpy in /Data/noahsarfati/miniconda3/envs/deepLearning/lib/python3.8/site-packages (from pymgrid==0.1.0) (1.18.5)\n",
      "Requirement already satisfied: scipy>=1.1.0 in /Data/noahsarfati/miniconda3/envs/deepLearning/lib/python3.8/site-packages (from cvxpy->pymgrid==0.1.0) (1.5.2)\n",
      "Requirement already satisfied: cloudpickle<1.7.0,>=1.2.0 in /Data/noahsarfati/miniconda3/envs/deepLearning/lib/python3.8/site-packages (from gym->pymgrid==0.1.0) (1.6.0)\n",
      "Requirement already satisfied: pyglet<=1.5.0,>=1.4.0 in /Data/noahsarfati/miniconda3/envs/deepLearning/lib/python3.8/site-packages (from gym->pymgrid==0.1.0) (1.5.0)\n",
      "Requirement already satisfied: prompt-toolkit!=3.0.0,!=3.0.1,<3.1.0,>=2.0.0 in /Data/noahsarfati/miniconda3/envs/deepLearning/lib/python3.8/site-packages (from ipython>=5.3.0->cufflinks->pymgrid==0.1.0) (3.0.8)\n",
      "Requirement already satisfied: pexpect>4.3 in /Data/noahsarfati/miniconda3/envs/deepLearning/lib/python3.8/site-packages (from ipython>=5.3.0->cufflinks->pymgrid==0.1.0) (4.8.0)\n",
      "Requirement already satisfied: jedi>=0.10 in /Data/noahsarfati/miniconda3/envs/deepLearning/lib/python3.8/site-packages (from ipython>=5.3.0->cufflinks->pymgrid==0.1.0) (0.17.2)\n",
      "Requirement already satisfied: pickleshare in /Data/noahsarfati/miniconda3/envs/deepLearning/lib/python3.8/site-packages (from ipython>=5.3.0->cufflinks->pymgrid==0.1.0) (0.7.5)\n",
      "Requirement already satisfied: traitlets>=4.2 in /Data/noahsarfati/miniconda3/envs/deepLearning/lib/python3.8/site-packages (from ipython>=5.3.0->cufflinks->pymgrid==0.1.0) (5.0.5)\n",
      "Requirement already satisfied: pygments in /Data/noahsarfati/miniconda3/envs/deepLearning/lib/python3.8/site-packages (from ipython>=5.3.0->cufflinks->pymgrid==0.1.0) (2.7.2)\n",
      "Requirement already satisfied: setuptools>=34.4.1 in /Data/noahsarfati/miniconda3/envs/deepLearning/lib/python3.8/site-packages (from cufflinks->pymgrid==0.1.0) (50.3.2.post20201201)\n",
      "Requirement already satisfied: backcall in /Data/noahsarfati/miniconda3/envs/deepLearning/lib/python3.8/site-packages (from ipython>=5.3.0->cufflinks->pymgrid==0.1.0) (0.2.0)\n",
      "Requirement already satisfied: decorator in /Data/noahsarfati/miniconda3/envs/deepLearning/lib/python3.8/site-packages (from ipython>=5.3.0->cufflinks->pymgrid==0.1.0) (4.4.2)\n",
      "Requirement already satisfied: widgetsnbextension~=3.5.0 in /Data/noahsarfati/miniconda3/envs/deepLearning/lib/python3.8/site-packages (from ipywidgets>=7.0.0->cufflinks->pymgrid==0.1.0) (3.5.1)\n",
      "Requirement already satisfied: nbformat>=4.2.0 in /Data/noahsarfati/miniconda3/envs/deepLearning/lib/python3.8/site-packages (from ipywidgets>=7.0.0->cufflinks->pymgrid==0.1.0) (5.0.8)\n",
      "Requirement already satisfied: ipython>=5.3.0 in /Data/noahsarfati/miniconda3/envs/deepLearning/lib/python3.8/site-packages (from cufflinks->pymgrid==0.1.0) (7.19.0)\n",
      "Requirement already satisfied: ipykernel>=4.5.1 in /Data/noahsarfati/miniconda3/envs/deepLearning/lib/python3.8/site-packages (from ipywidgets>=7.0.0->cufflinks->pymgrid==0.1.0) (5.3.4)\n",
      "Requirement already satisfied: traitlets>=4.2 in /Data/noahsarfati/miniconda3/envs/deepLearning/lib/python3.8/site-packages (from ipython>=5.3.0->cufflinks->pymgrid==0.1.0) (5.0.5)\n",
      "Requirement already satisfied: tornado>=4.2 in /Data/noahsarfati/miniconda3/envs/deepLearning/lib/python3.8/site-packages (from ipykernel>=4.5.1->ipywidgets>=7.0.0->cufflinks->pymgrid==0.1.0) (6.1)\n",
      "Requirement already satisfied: ipython>=5.3.0 in /Data/noahsarfati/miniconda3/envs/deepLearning/lib/python3.8/site-packages (from cufflinks->pymgrid==0.1.0) (7.19.0)\n",
      "Requirement already satisfied: jupyter-client in /Data/noahsarfati/miniconda3/envs/deepLearning/lib/python3.8/site-packages (from ipykernel>=4.5.1->ipywidgets>=7.0.0->cufflinks->pymgrid==0.1.0) (6.1.7)\n",
      "Requirement already satisfied: traitlets>=4.2 in /Data/noahsarfati/miniconda3/envs/deepLearning/lib/python3.8/site-packages (from ipython>=5.3.0->cufflinks->pymgrid==0.1.0) (5.0.5)\n",
      "Requirement already satisfied: parso<0.8.0,>=0.7.0 in /Data/noahsarfati/miniconda3/envs/deepLearning/lib/python3.8/site-packages (from jedi>=0.10->ipython>=5.3.0->cufflinks->pymgrid==0.1.0) (0.7.0)\n",
      "Requirement already satisfied: tornado>=4.2 in /Data/noahsarfati/miniconda3/envs/deepLearning/lib/python3.8/site-packages (from ipykernel>=4.5.1->ipywidgets>=7.0.0->cufflinks->pymgrid==0.1.0) (6.1)\n",
      "Requirement already satisfied: traitlets>=4.2 in /Data/noahsarfati/miniconda3/envs/deepLearning/lib/python3.8/site-packages (from ipython>=5.3.0->cufflinks->pymgrid==0.1.0) (5.0.5)\n",
      "Requirement already satisfied: python-dateutil>=2.1 in /Data/noahsarfati/miniconda3/envs/deepLearning/lib/python3.8/site-packages (from jupyter-client->ipykernel>=4.5.1->ipywidgets>=7.0.0->cufflinks->pymgrid==0.1.0) (2.8.1)\n",
      "Requirement already satisfied: jupyter-core>=4.6.0 in /Data/noahsarfati/miniconda3/envs/deepLearning/lib/python3.8/site-packages (from jupyter-client->ipykernel>=4.5.1->ipywidgets>=7.0.0->cufflinks->pymgrid==0.1.0) (4.7.0)\n",
      "Requirement already satisfied: pyzmq>=13 in /Data/noahsarfati/miniconda3/envs/deepLearning/lib/python3.8/site-packages (from jupyter-client->ipykernel>=4.5.1->ipywidgets>=7.0.0->cufflinks->pymgrid==0.1.0) (20.0.0)\n",
      "Requirement already satisfied: traitlets>=4.2 in /Data/noahsarfati/miniconda3/envs/deepLearning/lib/python3.8/site-packages (from ipython>=5.3.0->cufflinks->pymgrid==0.1.0) (5.0.5)\n",
      "Requirement already satisfied: certifi>=2020.06.20 in /Data/noahsarfati/miniconda3/envs/deepLearning/lib/python3.8/site-packages (from matplotlib->pymgrid==0.1.0) (2020.11.8)\n",
      "Requirement already satisfied: kiwisolver>=1.0.1 in /Data/noahsarfati/miniconda3/envs/deepLearning/lib/python3.8/site-packages (from matplotlib->pymgrid==0.1.0) (1.3.0)\n",
      "Requirement already satisfied: pyparsing!=2.0.4,!=2.1.2,!=2.1.6,>=2.0.3 in /Data/noahsarfati/miniconda3/envs/deepLearning/lib/python3.8/site-packages (from matplotlib->pymgrid==0.1.0) (2.4.7)\n",
      "Requirement already satisfied: Pillow<=7.2.0 in /Data/noahsarfati/miniconda3/envs/deepLearning/lib/python3.8/site-packages (from gym->pymgrid==0.1.0) (7.2.0)\n",
      "Requirement already satisfied: python-dateutil>=2.1 in /Data/noahsarfati/miniconda3/envs/deepLearning/lib/python3.8/site-packages (from jupyter-client->ipykernel>=4.5.1->ipywidgets>=7.0.0->cufflinks->pymgrid==0.1.0) (2.8.1)\n",
      "Requirement already satisfied: cycler>=0.10 in /Data/noahsarfati/miniconda3/envs/deepLearning/lib/python3.8/site-packages (from matplotlib->pymgrid==0.1.0) (0.10.0)\n",
      "Requirement already satisfied: numpy in /Data/noahsarfati/miniconda3/envs/deepLearning/lib/python3.8/site-packages (from pymgrid==0.1.0) (1.18.5)\n",
      "Requirement already satisfied: six>=1.9.0 in /Data/noahsarfati/miniconda3/envs/deepLearning/lib/python3.8/site-packages (from cufflinks->pymgrid==0.1.0) (1.15.0)\n",
      "Requirement already satisfied: jupyter-core>=4.6.0 in /Data/noahsarfati/miniconda3/envs/deepLearning/lib/python3.8/site-packages (from jupyter-client->ipykernel>=4.5.1->ipywidgets>=7.0.0->cufflinks->pymgrid==0.1.0) (4.7.0)\n",
      "Requirement already satisfied: ipython-genutils in /Data/noahsarfati/miniconda3/envs/deepLearning/lib/python3.8/site-packages (from nbformat>=4.2.0->ipywidgets>=7.0.0->cufflinks->pymgrid==0.1.0) (0.2.0)\n",
      "Requirement already satisfied: jsonschema!=2.5.0,>=2.4 in /Data/noahsarfati/miniconda3/envs/deepLearning/lib/python3.8/site-packages (from nbformat>=4.2.0->ipywidgets>=7.0.0->cufflinks->pymgrid==0.1.0) (3.2.0)\n",
      "Requirement already satisfied: traitlets>=4.2 in /Data/noahsarfati/miniconda3/envs/deepLearning/lib/python3.8/site-packages (from ipython>=5.3.0->cufflinks->pymgrid==0.1.0) (5.0.5)\n",
      "Requirement already satisfied: six>=1.9.0 in /Data/noahsarfati/miniconda3/envs/deepLearning/lib/python3.8/site-packages (from cufflinks->pymgrid==0.1.0) (1.15.0)\n",
      "Requirement already satisfied: setuptools>=34.4.1 in /Data/noahsarfati/miniconda3/envs/deepLearning/lib/python3.8/site-packages (from cufflinks->pymgrid==0.1.0) (50.3.2.post20201201)\n",
      "Requirement already satisfied: attrs>=17.4.0 in /Data/noahsarfati/miniconda3/envs/deepLearning/lib/python3.8/site-packages (from jsonschema!=2.5.0,>=2.4->nbformat>=4.2.0->ipywidgets>=7.0.0->cufflinks->pymgrid==0.1.0) (20.3.0)\n",
      "Requirement already satisfied: pyrsistent>=0.14.0 in /Data/noahsarfati/miniconda3/envs/deepLearning/lib/python3.8/site-packages (from jsonschema!=2.5.0,>=2.4->nbformat>=4.2.0->ipywidgets>=7.0.0->cufflinks->pymgrid==0.1.0) (0.17.3)\n",
      "Requirement already satisfied: numpy in /Data/noahsarfati/miniconda3/envs/deepLearning/lib/python3.8/site-packages (from pymgrid==0.1.0) (1.18.5)\n",
      "Requirement already satisfied: qdldl in /Data/noahsarfati/miniconda3/envs/deepLearning/lib/python3.8/site-packages (from osqp>=0.4.1->cvxpy->pymgrid==0.1.0) (0.1.5.post0)\n",
      "Requirement already satisfied: scipy>=1.1.0 in /Data/noahsarfati/miniconda3/envs/deepLearning/lib/python3.8/site-packages (from cvxpy->pymgrid==0.1.0) (1.5.2)\n",
      "Requirement already satisfied: numpy in /Data/noahsarfati/miniconda3/envs/deepLearning/lib/python3.8/site-packages (from pymgrid==0.1.0) (1.18.5)\n",
      "Requirement already satisfied: python-dateutil>=2.1 in /Data/noahsarfati/miniconda3/envs/deepLearning/lib/python3.8/site-packages (from jupyter-client->ipykernel>=4.5.1->ipywidgets>=7.0.0->cufflinks->pymgrid==0.1.0) (2.8.1)\n",
      "Requirement already satisfied: pytz>=2017.2 in /Data/noahsarfati/miniconda3/envs/deepLearning/lib/python3.8/site-packages (from pandas->pymgrid==0.1.0) (2020.4)\n",
      "Requirement already satisfied: ptyprocess>=0.5 in /Data/noahsarfati/miniconda3/envs/deepLearning/lib/python3.8/site-packages (from pexpect>4.3->ipython>=5.3.0->cufflinks->pymgrid==0.1.0) (0.6.0)\n",
      "Requirement already satisfied: six>=1.9.0 in /Data/noahsarfati/miniconda3/envs/deepLearning/lib/python3.8/site-packages (from cufflinks->pymgrid==0.1.0) (1.15.0)\n",
      "Requirement already satisfied: retrying>=1.3.3 in /Data/noahsarfati/miniconda3/envs/deepLearning/lib/python3.8/site-packages (from plotly->pymgrid==0.1.0) (1.3.3)\n",
      "Requirement already satisfied: wcwidth in /Data/noahsarfati/miniconda3/envs/deepLearning/lib/python3.8/site-packages (from prompt-toolkit!=3.0.0,!=3.0.1,<3.1.0,>=2.0.0->ipython>=5.3.0->cufflinks->pymgrid==0.1.0) (0.2.5)\n",
      "Requirement already satisfied: future in /Data/noahsarfati/miniconda3/envs/deepLearning/lib/python3.8/site-packages (from pyglet<=1.5.0,>=1.4.0->gym->pymgrid==0.1.0) (0.18.2)\n",
      "Requirement already satisfied: six>=1.9.0 in /Data/noahsarfati/miniconda3/envs/deepLearning/lib/python3.8/site-packages (from cufflinks->pymgrid==0.1.0) (1.15.0)\n",
      "Requirement already satisfied: numpy in /Data/noahsarfati/miniconda3/envs/deepLearning/lib/python3.8/site-packages (from pymgrid==0.1.0) (1.18.5)\n",
      "Requirement already satisfied: scipy>=1.1.0 in /Data/noahsarfati/miniconda3/envs/deepLearning/lib/python3.8/site-packages (from cvxpy->pymgrid==0.1.0) (1.5.2)\n",
      "Requirement already satisfied: urllib3<1.27,>=1.21.1 in /Data/noahsarfati/miniconda3/envs/deepLearning/lib/python3.8/site-packages (from requests->pymgrid==0.1.0) (1.25.11)\n",
      "Requirement already satisfied: certifi>=2020.06.20 in /Data/noahsarfati/miniconda3/envs/deepLearning/lib/python3.8/site-packages (from matplotlib->pymgrid==0.1.0) (2020.11.8)\n",
      "Requirement already satisfied: idna<3,>=2.5 in /Data/noahsarfati/miniconda3/envs/deepLearning/lib/python3.8/site-packages (from requests->pymgrid==0.1.0) (2.10)\n",
      "Requirement already satisfied: chardet<4,>=3.0.2 in /Data/noahsarfati/miniconda3/envs/deepLearning/lib/python3.8/site-packages (from requests->pymgrid==0.1.0) (3.0.4)\n",
      "Requirement already satisfied: six>=1.9.0 in /Data/noahsarfati/miniconda3/envs/deepLearning/lib/python3.8/site-packages (from cufflinks->pymgrid==0.1.0) (1.15.0)\n",
      "Requirement already satisfied: numpy in /Data/noahsarfati/miniconda3/envs/deepLearning/lib/python3.8/site-packages (from pymgrid==0.1.0) (1.18.5)\n",
      "Requirement already satisfied: numpy in /Data/noahsarfati/miniconda3/envs/deepLearning/lib/python3.8/site-packages (from pymgrid==0.1.0) (1.18.5)\n",
      "Requirement already satisfied: scipy>=1.1.0 in /Data/noahsarfati/miniconda3/envs/deepLearning/lib/python3.8/site-packages (from cvxpy->pymgrid==0.1.0) (1.5.2)\n",
      "Requirement already satisfied: patsy>=0.5 in /Data/noahsarfati/miniconda3/envs/deepLearning/lib/python3.8/site-packages (from statsmodels->pymgrid==0.1.0) (0.5.1)\n",
      "Requirement already satisfied: pandas in /Data/noahsarfati/miniconda3/envs/deepLearning/lib/python3.8/site-packages (from pymgrid==0.1.0) (1.1.3)\n",
      "Requirement already satisfied: numpy in /Data/noahsarfati/miniconda3/envs/deepLearning/lib/python3.8/site-packages (from pymgrid==0.1.0) (1.18.5)\n",
      "Requirement already satisfied: scipy>=1.1.0 in /Data/noahsarfati/miniconda3/envs/deepLearning/lib/python3.8/site-packages (from cvxpy->pymgrid==0.1.0) (1.5.2)\n",
      "Requirement already satisfied: six>=1.9.0 in /Data/noahsarfati/miniconda3/envs/deepLearning/lib/python3.8/site-packages (from cufflinks->pymgrid==0.1.0) (1.15.0)\n",
      "Requirement already satisfied: numpy in /Data/noahsarfati/miniconda3/envs/deepLearning/lib/python3.8/site-packages (from pymgrid==0.1.0) (1.18.5)\n",
      "Requirement already satisfied: ipython-genutils in /Data/noahsarfati/miniconda3/envs/deepLearning/lib/python3.8/site-packages (from nbformat>=4.2.0->ipywidgets>=7.0.0->cufflinks->pymgrid==0.1.0) (0.2.0)\n",
      "Requirement already satisfied: notebook>=4.4.1 in /Data/noahsarfati/miniconda3/envs/deepLearning/lib/python3.8/site-packages (from widgetsnbextension~=3.5.0->ipywidgets>=7.0.0->cufflinks->pymgrid==0.1.0) (6.1.4)\n",
      "Requirement already satisfied: ipython-genutils in /Data/noahsarfati/miniconda3/envs/deepLearning/lib/python3.8/site-packages (from nbformat>=4.2.0->ipywidgets>=7.0.0->cufflinks->pymgrid==0.1.0) (0.2.0)\n",
      "Requirement already satisfied: traitlets>=4.2 in /Data/noahsarfati/miniconda3/envs/deepLearning/lib/python3.8/site-packages (from ipython>=5.3.0->cufflinks->pymgrid==0.1.0) (5.0.5)\n",
      "Requirement already satisfied: jupyter-client in /Data/noahsarfati/miniconda3/envs/deepLearning/lib/python3.8/site-packages (from ipykernel>=4.5.1->ipywidgets>=7.0.0->cufflinks->pymgrid==0.1.0) (6.1.7)\n",
      "Requirement already satisfied: jupyter-core>=4.6.0 in /Data/noahsarfati/miniconda3/envs/deepLearning/lib/python3.8/site-packages (from jupyter-client->ipykernel>=4.5.1->ipywidgets>=7.0.0->cufflinks->pymgrid==0.1.0) (4.7.0)\n",
      "Requirement already satisfied: pyzmq>=13 in /Data/noahsarfati/miniconda3/envs/deepLearning/lib/python3.8/site-packages (from jupyter-client->ipykernel>=4.5.1->ipywidgets>=7.0.0->cufflinks->pymgrid==0.1.0) (20.0.0)\n",
      "Requirement already satisfied: argon2-cffi in /Data/noahsarfati/miniconda3/envs/deepLearning/lib/python3.8/site-packages (from notebook>=4.4.1->widgetsnbextension~=3.5.0->ipywidgets>=7.0.0->cufflinks->pymgrid==0.1.0) (20.1.0)\n",
      "Requirement already satisfied: jinja2 in /Data/noahsarfati/miniconda3/envs/deepLearning/lib/python3.8/site-packages (from notebook>=4.4.1->widgetsnbextension~=3.5.0->ipywidgets>=7.0.0->cufflinks->pymgrid==0.1.0) (2.11.2)\n",
      "Requirement already satisfied: ipykernel>=4.5.1 in /Data/noahsarfati/miniconda3/envs/deepLearning/lib/python3.8/site-packages (from ipywidgets>=7.0.0->cufflinks->pymgrid==0.1.0) (5.3.4)\n",
      "Requirement already satisfied: nbformat>=4.2.0 in /Data/noahsarfati/miniconda3/envs/deepLearning/lib/python3.8/site-packages (from ipywidgets>=7.0.0->cufflinks->pymgrid==0.1.0) (5.0.8)\n",
      "Requirement already satisfied: Send2Trash in /Data/noahsarfati/miniconda3/envs/deepLearning/lib/python3.8/site-packages (from notebook>=4.4.1->widgetsnbextension~=3.5.0->ipywidgets>=7.0.0->cufflinks->pymgrid==0.1.0) (1.5.0)\n",
      "Requirement already satisfied: nbconvert in /Data/noahsarfati/miniconda3/envs/deepLearning/lib/python3.8/site-packages (from notebook>=4.4.1->widgetsnbextension~=3.5.0->ipywidgets>=7.0.0->cufflinks->pymgrid==0.1.0) (6.0.7)\n",
      "Requirement already satisfied: terminado>=0.8.3 in /Data/noahsarfati/miniconda3/envs/deepLearning/lib/python3.8/site-packages (from notebook>=4.4.1->widgetsnbextension~=3.5.0->ipywidgets>=7.0.0->cufflinks->pymgrid==0.1.0) (0.9.1)\n",
      "Requirement already satisfied: tornado>=4.2 in /Data/noahsarfati/miniconda3/envs/deepLearning/lib/python3.8/site-packages (from ipykernel>=4.5.1->ipywidgets>=7.0.0->cufflinks->pymgrid==0.1.0) (6.1)\n",
      "Requirement already satisfied: prometheus-client in /Data/noahsarfati/miniconda3/envs/deepLearning/lib/python3.8/site-packages (from notebook>=4.4.1->widgetsnbextension~=3.5.0->ipywidgets>=7.0.0->cufflinks->pymgrid==0.1.0) (0.9.0)\n",
      "Requirement already satisfied: six>=1.9.0 in /Data/noahsarfati/miniconda3/envs/deepLearning/lib/python3.8/site-packages (from cufflinks->pymgrid==0.1.0) (1.15.0)\n",
      "Requirement already satisfied: cffi>=1.0.0 in /Data/noahsarfati/miniconda3/envs/deepLearning/lib/python3.8/site-packages (from argon2-cffi->notebook>=4.4.1->widgetsnbextension~=3.5.0->ipywidgets>=7.0.0->cufflinks->pymgrid==0.1.0) (1.14.4)\n",
      "Requirement already satisfied: pycparser in /Data/noahsarfati/miniconda3/envs/deepLearning/lib/python3.8/site-packages (from cffi>=1.0.0->argon2-cffi->notebook>=4.4.1->widgetsnbextension~=3.5.0->ipywidgets>=7.0.0->cufflinks->pymgrid==0.1.0) (2.20)\n",
      "Requirement already satisfied: MarkupSafe>=0.23 in /Data/noahsarfati/miniconda3/envs/deepLearning/lib/python3.8/site-packages (from jinja2->notebook>=4.4.1->widgetsnbextension~=3.5.0->ipywidgets>=7.0.0->cufflinks->pymgrid==0.1.0) (1.1.1)\n",
      "Requirement already satisfied: nbformat>=4.2.0 in /Data/noahsarfati/miniconda3/envs/deepLearning/lib/python3.8/site-packages (from ipywidgets>=7.0.0->cufflinks->pymgrid==0.1.0) (5.0.8)\n",
      "Requirement already satisfied: defusedxml in /Data/noahsarfati/miniconda3/envs/deepLearning/lib/python3.8/site-packages (from nbconvert->notebook>=4.4.1->widgetsnbextension~=3.5.0->ipywidgets>=7.0.0->cufflinks->pymgrid==0.1.0) (0.6.0)\n",
      "Requirement already satisfied: nbclient<0.6.0,>=0.5.0 in /Data/noahsarfati/miniconda3/envs/deepLearning/lib/python3.8/site-packages (from nbconvert->notebook>=4.4.1->widgetsnbextension~=3.5.0->ipywidgets>=7.0.0->cufflinks->pymgrid==0.1.0) (0.5.1)\n",
      "Requirement already satisfied: testpath in /Data/noahsarfati/miniconda3/envs/deepLearning/lib/python3.8/site-packages (from nbconvert->notebook>=4.4.1->widgetsnbextension~=3.5.0->ipywidgets>=7.0.0->cufflinks->pymgrid==0.1.0) (0.4.4)\n",
      "Requirement already satisfied: traitlets>=4.2 in /Data/noahsarfati/miniconda3/envs/deepLearning/lib/python3.8/site-packages (from ipython>=5.3.0->cufflinks->pymgrid==0.1.0) (5.0.5)\n",
      "Requirement already satisfied: mistune<2,>=0.8.1 in /Data/noahsarfati/miniconda3/envs/deepLearning/lib/python3.8/site-packages (from nbconvert->notebook>=4.4.1->widgetsnbextension~=3.5.0->ipywidgets>=7.0.0->cufflinks->pymgrid==0.1.0) (0.8.4)\n",
      "Requirement already satisfied: pandocfilters>=1.4.1 in /Data/noahsarfati/miniconda3/envs/deepLearning/lib/python3.8/site-packages (from nbconvert->notebook>=4.4.1->widgetsnbextension~=3.5.0->ipywidgets>=7.0.0->cufflinks->pymgrid==0.1.0) (1.4.3)\n",
      "Requirement already satisfied: entrypoints>=0.2.2 in /Data/noahsarfati/miniconda3/envs/deepLearning/lib/python3.8/site-packages (from nbconvert->notebook>=4.4.1->widgetsnbextension~=3.5.0->ipywidgets>=7.0.0->cufflinks->pymgrid==0.1.0) (0.3)\n",
      "Requirement already satisfied: pygments in /Data/noahsarfati/miniconda3/envs/deepLearning/lib/python3.8/site-packages (from ipython>=5.3.0->cufflinks->pymgrid==0.1.0) (2.7.2)\n",
      "Requirement already satisfied: jinja2 in /Data/noahsarfati/miniconda3/envs/deepLearning/lib/python3.8/site-packages (from notebook>=4.4.1->widgetsnbextension~=3.5.0->ipywidgets>=7.0.0->cufflinks->pymgrid==0.1.0) (2.11.2)\n",
      "Requirement already satisfied: jupyterlab-pygments in /Data/noahsarfati/miniconda3/envs/deepLearning/lib/python3.8/site-packages (from nbconvert->notebook>=4.4.1->widgetsnbextension~=3.5.0->ipywidgets>=7.0.0->cufflinks->pymgrid==0.1.0) (0.1.2)\n",
      "Requirement already satisfied: jupyter-core>=4.6.0 in /Data/noahsarfati/miniconda3/envs/deepLearning/lib/python3.8/site-packages (from jupyter-client->ipykernel>=4.5.1->ipywidgets>=7.0.0->cufflinks->pymgrid==0.1.0) (4.7.0)\n",
      "Requirement already satisfied: bleach in /Data/noahsarfati/miniconda3/envs/deepLearning/lib/python3.8/site-packages (from nbconvert->notebook>=4.4.1->widgetsnbextension~=3.5.0->ipywidgets>=7.0.0->cufflinks->pymgrid==0.1.0) (3.2.1)\n",
      "Requirement already satisfied: webencodings in /Data/noahsarfati/miniconda3/envs/deepLearning/lib/python3.8/site-packages (from bleach->nbconvert->notebook>=4.4.1->widgetsnbextension~=3.5.0->ipywidgets>=7.0.0->cufflinks->pymgrid==0.1.0) (0.5.1)\n",
      "Requirement already satisfied: six>=1.9.0 in /Data/noahsarfati/miniconda3/envs/deepLearning/lib/python3.8/site-packages (from cufflinks->pymgrid==0.1.0) (1.15.0)\n",
      "Requirement already satisfied: packaging in /Data/noahsarfati/miniconda3/envs/deepLearning/lib/python3.8/site-packages (from bleach->nbconvert->notebook>=4.4.1->widgetsnbextension~=3.5.0->ipywidgets>=7.0.0->cufflinks->pymgrid==0.1.0) (20.7)\n",
      "Requirement already satisfied: pygments in /Data/noahsarfati/miniconda3/envs/deepLearning/lib/python3.8/site-packages (from ipython>=5.3.0->cufflinks->pymgrid==0.1.0) (2.7.2)\n",
      "Requirement already satisfied: nbformat>=4.2.0 in /Data/noahsarfati/miniconda3/envs/deepLearning/lib/python3.8/site-packages (from ipywidgets>=7.0.0->cufflinks->pymgrid==0.1.0) (5.0.8)\n",
      "Requirement already satisfied: nest-asyncio in /Data/noahsarfati/miniconda3/envs/deepLearning/lib/python3.8/site-packages (from nbclient<0.6.0,>=0.5.0->nbconvert->notebook>=4.4.1->widgetsnbextension~=3.5.0->ipywidgets>=7.0.0->cufflinks->pymgrid==0.1.0) (1.4.3)\n",
      "Requirement already satisfied: traitlets>=4.2 in /Data/noahsarfati/miniconda3/envs/deepLearning/lib/python3.8/site-packages (from ipython>=5.3.0->cufflinks->pymgrid==0.1.0) (5.0.5)\n",
      "Requirement already satisfied: async-generator in /Data/noahsarfati/miniconda3/envs/deepLearning/lib/python3.8/site-packages (from nbclient<0.6.0,>=0.5.0->nbconvert->notebook>=4.4.1->widgetsnbextension~=3.5.0->ipywidgets>=7.0.0->cufflinks->pymgrid==0.1.0) (1.10)\n",
      "Requirement already satisfied: jupyter-client in /Data/noahsarfati/miniconda3/envs/deepLearning/lib/python3.8/site-packages (from ipykernel>=4.5.1->ipywidgets>=7.0.0->cufflinks->pymgrid==0.1.0) (6.1.7)\n",
      "Requirement already satisfied: pyparsing!=2.0.4,!=2.1.2,!=2.1.6,>=2.0.3 in /Data/noahsarfati/miniconda3/envs/deepLearning/lib/python3.8/site-packages (from matplotlib->pymgrid==0.1.0) (2.4.7)\n",
      "Requirement already satisfied: tornado>=4.2 in /Data/noahsarfati/miniconda3/envs/deepLearning/lib/python3.8/site-packages (from ipykernel>=4.5.1->ipywidgets>=7.0.0->cufflinks->pymgrid==0.1.0) (6.1)\n",
      "Requirement already satisfied: ptyprocess>=0.5 in /Data/noahsarfati/miniconda3/envs/deepLearning/lib/python3.8/site-packages (from pexpect>4.3->ipython>=5.3.0->cufflinks->pymgrid==0.1.0) (0.6.0)\n"
     ]
    }
   ],
   "source": [
    "!pip install git+https://github.com/Total-RD/pymgrid/\n",
    "## Other packages "
   ]
  },
  {
   "cell_type": "markdown",
   "metadata": {},
   "source": [
    "In the section below, you must run your methodology for solving the problem from start to finish :"
   ]
  },
  {
   "cell_type": "code",
   "execution_count": 1,
   "metadata": {},
   "outputs": [],
   "source": [
    "import pickle\n",
    "\n",
    "with open('building_1.pkl', 'rb') as f:\n",
    "    building_1 = pickle.load(f)\n",
    "\n",
    "with open('building_2.pkl', 'rb') as f:\n",
    "    building_2 = pickle.load(f)\n",
    "    \n",
    "with open('building_3.pkl', 'rb') as f:\n",
    "    building_3 = pickle.load(f)\n",
    "\n",
    "buildings = [building_1, building_2, building_3]"
   ]
  },
  {
   "cell_type": "markdown",
   "metadata": {},
   "source": [
    "<h2> Evaluation for Rule Based Approaches </h2>"
   ]
  },
  {
   "cell_type": "markdown",
   "metadata": {},
   "source": [
    "If you're using Rule Based Algorithms, here is what your submitted code should feature no matter what "
   ]
  },
  {
   "cell_type": "markdown",
   "metadata": {},
   "source": [
    "<b> 1) Import all used libraries and scripts here </b>"
   ]
  },
  {
   "cell_type": "code",
   "execution_count": 2,
   "metadata": {},
   "outputs": [],
   "source": [
    "import time # Necessary to evaluate frugality\n",
    "import json # Necessary to export your results\n",
    "from pymgrid.Environments.pymgrid_cspla import MicroGridEnv\n",
    "## Other packages "
   ]
  },
  {
   "cell_type": "markdown",
   "metadata": {},
   "source": [
    "<b> 2) Implementation of the rules that generate control dictionaries </b>"
   ]
  },
  {
   "cell_type": "code",
   "execution_count": 3,
   "metadata": {},
   "outputs": [],
   "source": [
    "\"\"\"\n",
    "EXAMPLE FOR A NAIVE RULE BASED STRATEGY\n",
    "\"\"\"\n",
    "def rule_based2(building):\n",
    "    done = False\n",
    "    total_reward = 0\n",
    "    while not done:\n",
    "\n",
    "        state,reward,done,_ = building.step(1)\n",
    "        total_reward += reward\n",
    "    return total_reward\n"
   ]
  },
  {
   "cell_type": "markdown",
   "metadata": {},
   "source": [
    "<b> 3) Run of the rules on the Test environment </b>"
   ]
  },
  {
   "cell_type": "code",
   "execution_count": null,
   "metadata": {},
   "outputs": [],
   "source": [
    "\"\"\"\n",
    "Rule based methods have no \"training\" as such, this means Training CPU Time will always be 0 and only\n",
    "Test CPU Time will represent frugality\n",
    "\"\"\"\n",
    "\n",
    "eval_start = time.process_time()\n",
    "\n",
    "total_building_costs = []\n",
    "\n",
    "for building in buildings:\n",
    "\n",
    "    building = MicroGridEnv(env_config={'microgrid':building,\"testing\":True})\n",
    "\n",
    "    total_building_cost = rule_based2(building)\n",
    "    total_building_costs.append(total_building_cost)\n",
    "\n",
    "eval_end = time.process_time()\n",
    "\n"
   ]
  },
  {
   "cell_type": "code",
   "execution_count": 16,
   "metadata": {},
   "outputs": [],
   "source": [
    "total_cost_building_1 = total_building_costs[0]\n",
    "total_cost_building_2 = total_building_costs[1]\n",
    "total_cost_building_3 = total_building_costs[2]"
   ]
  },
  {
   "cell_type": "code",
   "execution_count": 17,
   "metadata": {},
   "outputs": [],
   "source": [
    "frugality = eval_end - eval_start"
   ]
  },
  {
   "cell_type": "markdown",
   "metadata": {},
   "source": [
    "<b> 4) Store & Export Results in JSON format </b>"
   ]
  },
  {
   "cell_type": "code",
   "execution_count": 18,
   "metadata": {},
   "outputs": [
    {
     "name": "stdout",
     "output_type": "stream",
     "text": [
      "{'building_1_performance': -4089.2658357035007, 'building_2_performance': -13630.886119011686, 'building_3_performance': -16741.597568815654, 'frugality': 2.753117189}\n"
     ]
    }
   ],
   "source": [
    "final_results = {\n",
    "    \"building_1_performance\" : total_cost_building_1,\n",
    "    \"building_2_performance\" : total_cost_building_2,\n",
    "    \"building_3_performance\" : total_cost_building_3,\n",
    "    \"frugality\" : frugality,\n",
    "}\n",
    "print(final_results)"
   ]
  },
  {
   "cell_type": "code",
   "execution_count": 20,
   "metadata": {},
   "outputs": [],
   "source": [
    "team_name = 'team4'\n",
    "\n",
    "with open(team_name + '.txt', 'w') as json_file:\n",
    "    json.dump(final_results, json_file)"
   ]
  },
  {
   "cell_type": "markdown",
   "metadata": {},
   "source": [
    "<h2> Evaluation for \"Simple\" Reinforcement Learning based approaches <h2>"
   ]
  },
  {
   "cell_type": "markdown",
   "metadata": {},
   "source": [
    "<h2> For Optimisation based approaches <h2>"
   ]
  },
  {
   "cell_type": "markdown",
   "metadata": {},
   "source": [
    "As explained in the README and the Getting Started Notebook, the evaluation depends heavily on how you formulate the problem, no template can be given for this familly of methods "
   ]
  }
 ],
 "metadata": {
  "hide_input": false,
  "kernelspec": {
   "display_name": "hiparis",
   "language": "python",
   "name": "hiparis"
  },
  "language_info": {
   "codemirror_mode": {
    "name": "ipython",
    "version": 3
   },
   "file_extension": ".py",
   "mimetype": "text/x-python",
   "name": "python",
   "nbconvert_exporter": "python",
   "pygments_lexer": "ipython3",
   "version": "3.8.0"
  }
 },
 "nbformat": 4,
 "nbformat_minor": 4
}
