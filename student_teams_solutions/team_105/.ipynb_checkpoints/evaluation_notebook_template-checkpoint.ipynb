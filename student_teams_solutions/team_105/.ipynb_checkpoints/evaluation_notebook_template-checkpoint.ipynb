{
 "cells": [
  {
   "cell_type": "markdown",
   "metadata": {},
   "source": [
    "## Submission Notebook Template "
   ]
  },
  {
   "cell_type": "markdown",
   "metadata": {},
   "source": [
    "<h3> <font color='red'> WARNING : </font>  </h3>"
   ]
  },
  {
   "cell_type": "markdown",
   "metadata": {},
   "source": [
    "<font color='red'> No matter which approach you've chosen, you need to re-install any custom packages you had to install to make your code work ! </font>"
   ]
  },
  {
   "cell_type": "markdown",
   "metadata": {},
   "source": [
    "<b> Install your packages below: </b>"
   ]
  },
  {
   "cell_type": "code",
   "execution_count": null,
   "metadata": {},
   "outputs": [],
   "source": [
    "!pip install git+https://github.com/Total-RD/pymgrid/\n",
    "## Other packages "
   ]
  },
  {
   "cell_type": "markdown",
   "metadata": {},
   "source": [
    "In the section below, you must run your methodology for solving the problem from start to finish :"
   ]
  },
  {
   "cell_type": "code",
   "execution_count": 1,
   "metadata": {},
   "outputs": [],
   "source": [
    "\"\"\"\n",
    "The buildings mentionned below are specific to the hackathon and are not available in this repo.\n",
    "You can replace them with any MicroGrid object generated from pymgrid\n",
    "\"\"\"\n",
    "\n",
    "import pickle\n",
    "import pymgrid\n",
    "\n",
    "with open('building_1.pkl', 'rb') as f:\n",
    "    building_1 = pickle.load(f)\n",
    "    building_1.train_test_split()\n",
    "\n",
    "with open('building_2.pkl', 'rb') as f:\n",
    "    building_2 = pickle.load(f)\n",
    "    building_2.train_test_split()\n",
    "    \n",
    "with open('building_3.pkl', 'rb') as f:\n",
    "    building_3 = pickle.load(f)\n",
    "    building_3.train_test_split()\n",
    "\n",
    "buildings = [building_1, building_2, building_3]"
   ]
  },
  {
   "cell_type": "markdown",
   "metadata": {},
   "source": [
    "<h2> Evaluation for Rule Based Approaches </h2>"
   ]
  },
  {
   "cell_type": "markdown",
   "metadata": {},
   "source": [
    "If you're using Rule Based Algorithms, here is what your submitted code should feature no matter what "
   ]
  },
  {
   "cell_type": "markdown",
   "metadata": {},
   "source": [
    "<b> 1) Import all used libraries and scripts here </b>"
   ]
  },
  {
   "cell_type": "code",
   "execution_count": 2,
   "metadata": {},
   "outputs": [],
   "source": [
    "import time # Necessary to evaluate frugality\n",
    "import json # Necessary to export your results\n",
    "## Other packages "
   ]
  },
  {
   "cell_type": "markdown",
   "metadata": {},
   "source": [
    "<b> 2) Implementation of the rules that generate control dictionaries </b>"
   ]
  },
  {
   "cell_type": "code",
   "execution_count": 3,
   "metadata": {},
   "outputs": [],
   "source": [
    "def step(building, building_data):\n",
    "    load = building_data['load']\n",
    "    pv = building_data['pv']\n",
    "    capa_to_charge = building_data['capa_to_charge']\n",
    "    capa_to_discharge = building_data['capa_to_discharge']\n",
    "    battery_soc = building_data['battery_soc']\n",
    "    p_disc = max(0, min(load-pv, capa_to_discharge, building.battery.p_discharge_max)) \n",
    "    p_char = max(0, min(pv-load, capa_to_charge, building.battery.p_charge_max))\n",
    "    p_charge_max =  building.battery.p_charge_max\n",
    "    price = building_data['grid_price_import']\n",
    "    consumed = min(pv, load)\n",
    "    if consumed == load:\n",
    "        control_dict = {'battery_charge': p_char,\n",
    "                            'battery_discharge': 0,\n",
    "                            'grid_import': 0,\n",
    "                            'grid_export': max(0, pv-consumed-p_char),\n",
    "                            'pv_consummed': pv,\n",
    "                            'genset' : 0\n",
    "                       }\n",
    "    else:\n",
    "        control_dict = {'battery_charge': 0,\n",
    "                'battery_discharge': p_disc,\n",
    "                'grid_import': max(0, load-pv-p_disc),\n",
    "                'grid_export': 0,\n",
    "                'pv_consummed': consumed,\n",
    "                'genset' : 0\n",
    "           }\n",
    "        \n",
    "    \n",
    "\n",
    "    return control_dict"
   ]
  },
  {
   "cell_type": "code",
   "execution_count": 4,
   "metadata": {},
   "outputs": [],
   "source": [
    "def step_gen(building, building_data):\n",
    "    load = building_data['load']\n",
    "    pv = building_data['pv']\n",
    "    capa_to_charge = building_data['capa_to_charge']\n",
    "    capa_to_discharge = building_data['capa_to_discharge']\n",
    "    battery_soc = building_data['battery_soc']\n",
    "    \n",
    "    p_disc = max(0, min(load-pv, capa_to_discharge, building.battery.p_discharge_max))\n",
    "    \n",
    "    p_char = max(0, min(pv-load, capa_to_charge, building.battery.p_charge_max))\n",
    "    p_charge_max =  building.battery.p_charge_max\n",
    "    price = building_data['grid_price_import']\n",
    "    consumed = min(pv, load)\n",
    "    fuel_cost = float(building.parameters['fuel_cost'].values[0])\n",
    "    \n",
    "    if consumed == load:\n",
    "        control_dict = {'battery_charge': p_char,\n",
    "                            'battery_discharge': 0,\n",
    "                            'grid_import': 0,\n",
    "                            'grid_export': max(0, pv-consumed-p_char),\n",
    "                            'pv_consummed': pv,\n",
    "                            'genset' : 0\n",
    "                       }\n",
    "    elif 1.5*fuel_cost > price:\n",
    "        control_dict = {'battery_charge': 0,\n",
    "                'battery_discharge': p_disc,\n",
    "                'grid_import': max(0, load-pv-p_disc),\n",
    "                'grid_export': 0,\n",
    "                'pv_consummed': consumed,\n",
    "                'genset' : 0}\n",
    "    else:\n",
    "        print('HOP')\n",
    "        control_dict = {'battery_charge': 0,\n",
    "                'battery_discharge': p_disc,\n",
    "                'grid_import': 0,\n",
    "                'grid_export': 0,\n",
    "                'pv_consummed': consumed,\n",
    "                'genset' : max(0, load-pv-p_disc),\n",
    "           }\n",
    "        \n",
    "\n",
    "    return control_dict"
   ]
  },
  {
   "cell_type": "code",
   "execution_count": 5,
   "metadata": {},
   "outputs": [],
   "source": [
    "def rule_based_strategy(building, n_step = 'all'):\n",
    "    building_data = building.get_updated_values()\n",
    "    total_building_cost = 0\n",
    "    #print(\"state : \", building_data)\n",
    "    if n_step == 'all':\n",
    "        while building.done == False:\n",
    "            if building.architecture['genset'] == 1:\n",
    "                control_dict = step_gen(building, building_data)\n",
    "            else:\n",
    "                control_dict = step(building, building_data)\n",
    "            building_data = building.run(control_dict)\n",
    "            total_building_cost += building.get_cost()\n",
    "    else:\n",
    "        for i in range(n_step):\n",
    "            if building.architecture['genset'] == 1:\n",
    "                control_dict = step_gen(building, building_data)\n",
    "            else:\n",
    "                control_dict = step(building, building_data)\n",
    "            building_data = building.run(control_dict)\n",
    "            total_building_cost += building.get_cost()\n",
    "            print(\"action : \",control_dict)\n",
    "            print(\"state : \",building_data)\n",
    "  \n",
    "    return total_building_cost"
   ]
  },
  {
   "cell_type": "markdown",
   "metadata": {},
   "source": [
    "<b> 3) Run of the rules on the Test environment </b>"
   ]
  },
  {
   "cell_type": "code",
   "execution_count": 6,
   "metadata": {},
   "outputs": [],
   "source": [
    "\"\"\"\n",
    "Rule based methods have no \"training\" as such, this means Training CPU Time will always be 0 and only\n",
    "Test CPU Time will represent frugality\n",
    "\"\"\"\n",
    "\n",
    "eval_start = time.process_time()\n",
    "\n",
    "total_building_costs = []\n",
    "\n",
    "for building in buildings:\n",
    "    building.reset(testing = True)\n",
    "    total_building_cost = rule_based_strategy(building)\n",
    "    total_building_costs.append(total_building_cost)\n",
    "\n",
    "eval_end = time.process_time()\n",
    "\n"
   ]
  },
  {
   "cell_type": "code",
   "execution_count": 7,
   "metadata": {},
   "outputs": [],
   "source": [
    "total_cost_building_1 = total_building_costs[0]\n",
    "total_cost_building_2 = total_building_costs[1]\n",
    "total_cost_building_3 = total_building_costs[2]"
   ]
  },
  {
   "cell_type": "code",
   "execution_count": 8,
   "metadata": {},
   "outputs": [],
   "source": [
    "frugality = eval_end - eval_start"
   ]
  },
  {
   "cell_type": "markdown",
   "metadata": {},
   "source": [
    "<b> 4) Store & Export Results in JSON format </b>"
   ]
  },
  {
   "cell_type": "code",
   "execution_count": 9,
   "metadata": {},
   "outputs": [
    {
     "name": "stdout",
     "output_type": "stream",
     "text": [
      "{'building_1_performance': 3883.0494242466807, 'building_2_performance': 12944.105724432138, 'building_3_performance': 9837.285779214644, 'frugality': 4.163161}\n"
     ]
    }
   ],
   "source": [
    "final_results = {\n",
    "    \"building_1_performance\" : total_cost_building_1,\n",
    "    \"building_2_performance\" : total_cost_building_2,\n",
    "    \"building_3_performance\" : total_cost_building_3,\n",
    "    \"frugality\" : frugality,\n",
    "}\n",
    "print(final_results)"
   ]
  }
 ],
 "metadata": {
  "hide_input": false,
  "kernelspec": {
   "display_name": "hiparis",
   "language": "python",
   "name": "hiparis"
  },
  "language_info": {
   "codemirror_mode": {
    "name": "ipython",
    "version": 3
   },
   "file_extension": ".py",
   "mimetype": "text/x-python",
   "name": "python",
   "nbconvert_exporter": "python",
   "pygments_lexer": "ipython3",
   "version": "3.8.0"
  }
 },
 "nbformat": 4,
 "nbformat_minor": 4
}
