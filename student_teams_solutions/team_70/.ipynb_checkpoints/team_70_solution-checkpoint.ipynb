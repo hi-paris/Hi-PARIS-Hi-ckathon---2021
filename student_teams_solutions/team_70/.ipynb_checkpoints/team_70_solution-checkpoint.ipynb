{
 "cells": [
  {
   "cell_type": "code",
   "execution_count": null,
   "metadata": {},
   "outputs": [],
   "source": [
    "!pip install git+https://github.com/Total-RD/pymgrid/"
   ]
  },
  {
   "cell_type": "code",
   "execution_count": null,
   "metadata": {},
   "outputs": [],
   "source": [
    "import pickle\n",
    "\n",
    "\"\"\"\n",
    "The buildings mentionned below are specific to the hackathon and are not available in this repo.\n",
    "You can replace them with any MicroGrid object generated from pymgrid\n",
    "\"\"\"\n",
    "\n",
    "with open('building_1.pkl', 'rb') as f:\n",
    "    building_1 = pickle.load(f)\n",
    "    building_1.train_test_split()\n",
    "\n",
    "with open('building_2.pkl', 'rb') as f:\n",
    "    building_2 = pickle.load(f)\n",
    "    building_2.train_test_split()\n",
    "\n",
    "with open('building_3.pkl', 'rb') as f:\n",
    "    building_3 = pickle.load(f)\n",
    "    building_3.train_test_split()\n",
    "\n",
    "buildings = [building_1, building_2, building_3]"
   ]
  },
  {
   "cell_type": "code",
   "execution_count": null,
   "metadata": {},
   "outputs": [],
   "source": [
    "import matplotlib.pyplot as plt\n",
    "import numpy as np\n",
    "import time\n",
    "import json\n",
    "import sys\n",
    "\n",
    "frugality = 0"
   ]
  },
  {
   "cell_type": "code",
   "execution_count": null,
   "metadata": {},
   "outputs": [],
   "source": [
    "for building in buildings:\n",
    "    print(building.architecture)"
   ]
  },
  {
   "cell_type": "code",
   "execution_count": null,
   "metadata": {},
   "outputs": [],
   "source": [
    "buildings[2].print_info()"
   ]
  },
  {
   "cell_type": "code",
   "execution_count": null,
   "metadata": {},
   "outputs": [],
   "source": [
    "### Import the Gym environnement with finite States & Actions\n",
    "import DiscreteEnvironment as DiscreteEnvironment "
   ]
  },
  {
   "cell_type": "code",
   "execution_count": null,
   "metadata": {},
   "outputs": [],
   "source": [
    "### Gymify your building MicroGrid object\n",
    "building_environments = []\n",
    "for i in range(3):\n",
    "    env_config={'building': buildings[i]}\n",
    "    environment = DiscreteEnvironment.Environment(env_config)\n",
    "    building_environments.append(environment)"
   ]
  },
  {
   "cell_type": "code",
   "execution_count": null,
   "metadata": {},
   "outputs": [],
   "source": [
    "def init_qtable(env, nb_action):\n",
    "    \n",
    "    state = []\n",
    "    Q = {}\n",
    "\n",
    "    for i in range(-int(env.mg.parameters['PV_rated_power']-1),int(env.mg.parameters['load']+2)):\n",
    "        \n",
    "        for j in np.arange(round(env.mg.battery.soc_min,1),round(env.mg.battery.soc_max+0.1,1),0.1):\n",
    "            \n",
    "            j = round(j,1)\n",
    "            state.append((i,j)) \n",
    "\n",
    "    #Initialize Q(s,a) at zero\n",
    "    for s in state:\n",
    "\n",
    "        Q[s] = {}\n",
    "\n",
    "        for a in range(nb_action):\n",
    "\n",
    "            Q[s][a] = 0\n",
    "\n",
    "    return Q"
   ]
  },
  {
   "cell_type": "code",
   "execution_count": null,
   "metadata": {},
   "outputs": [],
   "source": [
    "def espilon_decreasing_greedy(action, epsilon, nb_action):\n",
    "    \n",
    "    p = np.random.random()\n",
    "\n",
    "    if p < (1 - epsilon):\n",
    "        return action\n",
    "\n",
    "    else:\n",
    "        return np.random.choice(nb_action)\n",
    "\n",
    "def max_dict(d):\n",
    "\n",
    "    return max(d, key=d.get)\n",
    "\n",
    "def update_epsilon(epsilon, eps_decay=0.05):\n",
    "    \n",
    "    epsilon *= 1 - eps_decay\n",
    "    return max(epsilon, 0.1)\n",
    "\n",
    "action_name_grid = {\n",
    "    0: \"Charge the battery from the PV\",\n",
    "    1: \"Discharge the battery\",\n",
    "    2: \"Import from the grid\",\n",
    "    3: \"Export to the grid\",\n",
    "    4: \"Charge the battery from the grid\"\n",
    "}\n",
    "\n",
    "action_name_genset = {\n",
    "    0: \"Charge the battery from the PV\",\n",
    "    1: \"Discharge the battery\",\n",
    "    2: \"Import from the grid\",\n",
    "    3: \"Export to the grid\",\n",
    "    4: \"Use Generator\",\n",
    "    5: \"Charge the battery from the grid\",\n",
    "    6: \"Use Generator and Discharge Battery\"\n",
    "}\n",
    "\n",
    "def print_results():\n",
    "        \n",
    "    print(\"t -     STATE  -  ACTION - COST\")\n",
    "    print(\"================================\")"
   ]
  },
  {
   "cell_type": "code",
   "execution_count": null,
   "metadata": {},
   "outputs": [],
   "source": [
    "def training_Q_Learning(env, nb_episode=50, alpha=0.1, epsilon=0.9, eps_decay=0.05, gamma=0.9):\n",
    "    \n",
    "    nb_action = env.action_space.n\n",
    "    Q = init_qtable(env, nb_action)\n",
    "    nb_state = len(Q)\n",
    "    \n",
    "    record_cost = []\n",
    "    print_training = \"Training Progressing ... \"\n",
    "    \n",
    "    for e in range(nb_episode + 1):\n",
    "        \n",
    "        value_print = \"\\r\" + print_training + \"Episode \" + str(e) + \"/\" + str(nb_episode) \n",
    "        sys.stdout.write(value_print)\n",
    "        sys.stdout.flush()\n",
    "            \n",
    "        env.reset()\n",
    "        s = env.transition()\n",
    "        a = max_dict(Q[s])\n",
    "        a = espilon_decreasing_greedy(a, epsilon, nb_action)\n",
    "        done = False\n",
    "        \n",
    "        while not done:\n",
    "            \n",
    "            s_, r, done, _ = env.step(a)\n",
    "            a_ = max_dict(Q[s_])\n",
    "            a = espilon_decreasing_greedy(a, epsilon, nb_action)\n",
    "\n",
    "            if done:\n",
    "                \n",
    "                Q[s][a] += alpha * (r - Q[s][a])\n",
    "      \n",
    "            else:\n",
    "            \n",
    "                target = r + gamma * Q[s_][a_]\n",
    "                td_error = target - Q[s][a]\n",
    "                Q[s][a] = (1 - alpha) * Q[s][a] + alpha * td_error\n",
    "                \n",
    "            s, a = s_, a_\n",
    "        \n",
    "        record_cost.append(env.get_cost())\n",
    "        epsilon = update_epsilon(epsilon, eps_decay)\n",
    "        \n",
    "    return Q, record_cost"
   ]
  },
  {
   "cell_type": "code",
   "execution_count": null,
   "metadata": {},
   "outputs": [],
   "source": [
    "def testing_Q_Learning(env, Q, genset=False):\n",
    "    \n",
    "    change_name_action = action_name_grid\n",
    "    if genset:\n",
    "        change_name_action = action_name_genset\n",
    "    env.reset(testing=True)\n",
    "    s = env.transition()\n",
    "    a = max_dict(Q[s])\n",
    "    i, total_cost = 0, 0\n",
    "    print_results()\n",
    "    done = False\n",
    "    \n",
    "    while not done:\n",
    "\n",
    "        action_name = change_name_action[a]\n",
    "        s_, r, done, _, = env.step(a)\n",
    "        total_cost -= r\n",
    "        \n",
    "        if i < 10:\n",
    "            print(i, \" -\", (int(s[0]), s[1]), action_name, round(total_cost, 1), \"€\")\n",
    "        else:\n",
    "            print(i, \"-\", (int(s[0]), s[1]), action_name, round(total_cost, 1), \"€\")\n",
    "        \n",
    "        i += 1\n",
    "        a_ = max_dict(Q[s_])\n",
    "        s, a = s_, a_\n",
    "    \n",
    "    return round(total_cost, 1)"
   ]
  },
  {
   "cell_type": "code",
   "execution_count": null,
   "metadata": {},
   "outputs": [],
   "source": [
    "start = time.process_time()\n",
    "Q1, record_cost1 = training_Q_Learning(building_environments[0], epsilon=0.8, gamma=0.9)\n",
    "end = time.process_time()\n",
    "frugality += end - start"
   ]
  },
  {
   "cell_type": "code",
   "execution_count": null,
   "metadata": {},
   "outputs": [],
   "source": [
    "plt.plot(record_cost1)"
   ]
  },
  {
   "cell_type": "code",
   "execution_count": null,
   "metadata": {},
   "outputs": [],
   "source": [
    "start = time.process_time()\n",
    "total_cost1 = testing_Q_Learning(building_environments[0], Q1)\n",
    "end = time.process_time()\n",
    "frugality += end - start"
   ]
  },
  {
   "cell_type": "code",
   "execution_count": null,
   "metadata": {},
   "outputs": [],
   "source": [
    "print(\"total cost for test building 1:\", total_cost1, \"€\")"
   ]
  },
  {
   "cell_type": "code",
   "execution_count": null,
   "metadata": {},
   "outputs": [],
   "source": [
    "start = time.process_time()\n",
    "Q2, record_cost2 = training_Q_Learning(building_environments[1], epsilon=0.8, gamma=0.9)\n",
    "end = time.process_time()\n",
    "frugality += end - start"
   ]
  },
  {
   "cell_type": "code",
   "execution_count": null,
   "metadata": {},
   "outputs": [],
   "source": [
    "plt.plot(record_cost2)"
   ]
  },
  {
   "cell_type": "code",
   "execution_count": null,
   "metadata": {},
   "outputs": [],
   "source": [
    "start = time.process_time()\n",
    "total_cost2 = testing_Q_Learning(building_environments[1], Q2)\n",
    "end = time.process_time()\n",
    "frugality += end - start"
   ]
  },
  {
   "cell_type": "code",
   "execution_count": null,
   "metadata": {},
   "outputs": [],
   "source": [
    "print(\"total cost for test building 2:\", total_cost2, \"€\")"
   ]
  },
  {
   "cell_type": "code",
   "execution_count": null,
   "metadata": {},
   "outputs": [],
   "source": [
    "start = time.process_time()\n",
    "Q3, record_cost3 = training_Q_Learning(building_environments[2], epsilon=0.8, gamma=0.9)\n",
    "end = time.process_time()\n",
    "frugality += end - start"
   ]
  },
  {
   "cell_type": "code",
   "execution_count": null,
   "metadata": {},
   "outputs": [],
   "source": [
    "plt.plot(record_cost3)"
   ]
  },
  {
   "cell_type": "code",
   "execution_count": null,
   "metadata": {},
   "outputs": [],
   "source": [
    "start = time.process_time()\n",
    "total_cost3 = testing_Q_Learning(building_environments[2], Q3, genset=True)\n",
    "end = time.process_time()\n",
    "frugality += end - start"
   ]
  },
  {
   "cell_type": "code",
   "execution_count": null,
   "metadata": {},
   "outputs": [],
   "source": [
    "print(\"total cost for test building 3:\", total_cost3, \"€\")"
   ]
  },
  {
   "cell_type": "code",
   "execution_count": null,
   "metadata": {},
   "outputs": [],
   "source": [
    "final_results = {\n",
    "    \"building_1_performance\" : total_cost1,\n",
    "    \"building_2_performance\" : total_cost2,\n",
    "    \"building_3_performance\" : total_cost3,\n",
    "    \"frugality\" : frugality\n",
    "}\n",
    "print(final_results)"
   ]
  }
 ],
 "metadata": {
  "hide_input": false,
  "kernelspec": {
   "display_name": "hiparis",
   "language": "python",
   "name": "hiparis"
  },
  "language_info": {
   "codemirror_mode": {
    "name": "ipython",
    "version": 3
   },
   "file_extension": ".py",
   "mimetype": "text/x-python",
   "name": "python",
   "nbconvert_exporter": "python",
   "pygments_lexer": "ipython3",
   "version": "3.8.0"
  }
 },
 "nbformat": 4,
 "nbformat_minor": 4
}
