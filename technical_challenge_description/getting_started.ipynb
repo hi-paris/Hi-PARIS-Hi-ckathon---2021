{
 "cells": [
  {
   "cell_type": "markdown",
   "metadata": {},
   "source": [
    "<h1> Introducing Pymgrid, the SmartGrid Management Simulator ! </h1>"
   ]
  },
  {
   "cell_type": "markdown",
   "metadata": {},
   "source": [
    "Pymgrid is an open-source python package developped by Total R&D to simulate Smartgrids (or Microgrids) and track their profitability over a year. The package is specifically designed to use of Reinforcement Learning, or Rule Based methods or Optimization approaches to compare them in terms of profitability. "
   ]
  },
  {
   "cell_type": "markdown",
   "metadata": {},
   "source": [
    "<h3> How to use Pymgrid in general </h3> "
   ]
  },
  {
   "cell_type": "markdown",
   "metadata": {},
   "source": [
    "While the Pymgrid package can generate many kinds of microgrids, <b> the 3 buildings you will be working with are specific to this Hi!ckathon, you wont be able to find them in the GitHub. </b>"
   ]
  },
  {
   "cell_type": "markdown",
   "metadata": {},
   "source": [
    "Load the 3 buildings with the following line of code :"
   ]
  },
  {
   "cell_type": "code",
   "execution_count": 1,
   "metadata": {},
   "outputs": [],
   "source": [
    "import pickle\n",
    "\n",
    "with open('building_1.pkl', 'rb') as f:\n",
    "    building_1 = pickle.load(f)\n",
    "\n",
    "with open('building_2.pkl', 'rb') as f:\n",
    "    building_2 = pickle.load(f)\n",
    "    \n",
    "with open('building_3.pkl', 'rb') as f:\n",
    "    building_3 = pickle.load(f)\n",
    "\n",
    "buildings = [building_1, building_2, building_3]"
   ]
  },
  {
   "cell_type": "markdown",
   "metadata": {},
   "source": [
    "By default, the buildings are loaded in their \"training\" version, a later line of code will show you how to switch to the \"testing\" version"
   ]
  },
  {
   "cell_type": "markdown",
   "metadata": {},
   "source": [
    "<b> Keep in mind that the buildings are MicroGrid objects, any function that works for a MicroGrid object will work on the 3 buildings. </b>"
   ]
  },
  {
   "cell_type": "markdown",
   "metadata": {},
   "source": [
    "You can look at some additional information about your buildings with the line of code below"
   ]
  },
  {
   "cell_type": "code",
   "execution_count": 2,
   "metadata": {},
   "outputs": [
    {
     "name": "stdout",
     "output_type": "stream",
     "text": [
      "{'PV': 1, 'battery': 1, 'genset': 0, 'grid': 1}\n",
      "{'PV': 1, 'battery': 1, 'genset': 0, 'grid': 1}\n",
      "{'PV': 1, 'battery': 1, 'genset': 1, 'grid': 1}\n"
     ]
    }
   ],
   "source": [
    "for building in buildings:\n",
    "    print(building.architecture)"
   ]
  },
  {
   "cell_type": "markdown",
   "metadata": {},
   "source": [
    "The 2 first buildings are both equiped with a battery, a PV and the ability to import power from the public electricity grid at any moment. The third building is more challenging since it only has a \"Weak Grid\", meaning it is sometimes cut-off from the public grid and thus unable to import electricity from it. This third building is also equipped with a fuel-based generator (Genset), and your algorithm will have to learn to deal with both the local tools and the availability of the public grid."
   ]
  },
  {
   "cell_type": "markdown",
   "metadata": {},
   "source": [
    "Another mandatory function is the reset() function. It allows you to reset a building back to the beginning of the year, as if no decisions were made by your algorithm."
   ]
  },
  {
   "cell_type": "code",
   "execution_count": 3,
   "metadata": {},
   "outputs": [],
   "source": [
    "buildings[0].reset()\n",
    "buildings[1].reset()\n",
    "buildings[2].reset()"
   ]
  },
  {
   "cell_type": "markdown",
   "metadata": {},
   "source": [
    "The reset function also allows you to switch your building into the \"test\" mode to evaluate Profitability. This is how to do it :"
   ]
  },
  {
   "cell_type": "code",
   "execution_count": 4,
   "metadata": {},
   "outputs": [],
   "source": [
    "buildings[0].reset(testing=True)\n",
    "buildings[1].reset(testing=True)\n",
    "buildings[2].reset(testing=True)"
   ]
  },
  {
   "cell_type": "markdown",
   "metadata": {},
   "source": [
    "<font color='red'> <h3> Hi!ckathon Rules for all approaches </h3> </font>"
   ]
  },
  {
   "cell_type": "markdown",
   "metadata": {},
   "source": [
    "<font color='red'> <b> It is forbidden to :\n",
    "* Train your RL or Deep RL algorithm on the test version of the buildings \n",
    "* Make any modifications to the DiscreteEnvironment script and/or building pickle files\n",
    "* Submit an algorithm you've simply copy/pasted from the Github without any modification \n",
    "    </b> </font>"
   ]
  },
  {
   "cell_type": "markdown",
   "metadata": {},
   "source": [
    "<h3> How to use Pymgrid for the Expertise Path "
   ]
  },
  {
   "cell_type": "markdown",
   "metadata": {},
   "source": [
    "Pymgrid is designed to allow you to easily implement rules based on business knowledge to manage your energy consumption ! "
   ]
  },
  {
   "cell_type": "markdown",
   "metadata": {},
   "source": [
    "<h4> Interacting with the buildings in Pymgrid </h4>"
   ]
  },
  {
   "cell_type": "markdown",
   "metadata": {},
   "source": [
    "At each time step (each hour) a decision has to be made to supply a building's demand in energy (called load). To do so, you must fill for each time step a <b> control dictionary </b>."
   ]
  },
  {
   "cell_type": "markdown",
   "metadata": {},
   "source": [
    "The control dictionnary is sturcutred in the following way :\n",
    "* Each key is one of the possible actions you can take regarding the building's equippement or the public grid (with 2 additional exception keys that are not actions )\n",
    "* Each value is the amount of energy in kW that the action is leveraging"
   ]
  },
  {
   "cell_type": "markdown",
   "metadata": {},
   "source": [
    "The following line of code prints all possible actions we have at our disposal for each building :"
   ]
  },
  {
   "cell_type": "code",
   "execution_count": 5,
   "metadata": {},
   "outputs": [
    {
     "data": {
      "text/plain": [
       "['load',\n",
       " 'pv_consummed',\n",
       " 'pv_curtailed',\n",
       " 'pv',\n",
       " 'battery_charge',\n",
       " 'battery_discharge',\n",
       " 'grid_import',\n",
       " 'grid_export']"
      ]
     },
     "execution_count": 5,
     "metadata": {},
     "output_type": "execute_result"
    }
   ],
   "source": [
    "buildings[0].get_control_dict()"
   ]
  },
  {
   "cell_type": "markdown",
   "metadata": {},
   "source": [
    "\n",
    "* <b> PV Consumed: </b> How much energy was used from the PV to supply the load\n",
    "* <b> PV Curtailed: </b> How much energy did we have to deliberitaly not produce to supply the load (since solar power cannot be stored, look up curtailement to know more)\n",
    "* <b> Battery Charge: </b> Self-explanatory\n",
    "* <b> Battery Discharge : </b> Self-explanatory\n",
    "* <b> Grid Import : </b> Grid here refers to the public electricity grid \n",
    "* <b> Grid Export : </b> In case of excessive energy generation (or overgeneration) you can export the excess to the public grid\n",
    "* <b> Load (Not an Action) : </b> The demand in energy of the building at the current time step\n",
    "* <b> PV (Not an Action) : </b> The overall PV for the current time step\n",
    "\n"
   ]
  },
  {
   "cell_type": "markdown",
   "metadata": {},
   "source": [
    "Below is an example of a control dictionary you can run at given time step : "
   ]
  },
  {
   "cell_type": "code",
   "execution_count": 6,
   "metadata": {},
   "outputs": [],
   "source": [
    " control_dict = {\n",
    "     'battery_charge': 0,\n",
    "     'battery_discharge': 150,\n",
    "     'grid_import': 200,\n",
    "     'grid_export': 0,\n",
    "     'pv_consummed': 53,\n",
    "     }"
   ]
  },
  {
   "cell_type": "markdown",
   "metadata": {},
   "source": [
    "<b> Notice that for a single time step, the energy management decision you can take can be a combination of many actions at once ! </b>"
   ]
  },
  {
   "cell_type": "markdown",
   "metadata": {},
   "source": [
    "The following line of code allows you to know the current state of the building"
   ]
  },
  {
   "cell_type": "code",
   "execution_count": 7,
   "metadata": {},
   "outputs": [
    {
     "data": {
      "text/plain": [
       "{'load': 2.3,\n",
       " 'hour': 0,\n",
       " 'pv': 0.0,\n",
       " 'battery_soc': 0.2,\n",
       " 'capa_to_charge': 13.3,\n",
       " 'capa_to_discharge': 0.0,\n",
       " 'grid_status': 1.0,\n",
       " 'grid_co2': 0.180924313,\n",
       " 'grid_price_import': 0.22,\n",
       " 'grid_price_export': 0.0}"
      ]
     },
     "execution_count": 7,
     "metadata": {},
     "output_type": "execute_result"
    }
   ],
   "source": [
    "buildings[0].get_updated_values()"
   ]
  },
  {
   "cell_type": "markdown",
   "metadata": {},
   "source": [
    "Let's describe the content :\n",
    "* We are at hour=0, meaning this is the initial step, no decision has been made \n",
    "* Our first demand in energy is load=2.3 kW\n",
    "* Our PV has no solar energy to offer\n",
    "* Our battery has a State of Charge of 20% (meaning it is at 20% of full charge)\n",
    "* Our battery has the capacity to charge 13.3 kW\n",
    "* The public grid is currently available grid_status=1 (This will always be the case for the 2 first buildings)\n",
    "* The 3 last values are respectively :\n",
    "    * kCO2 generated per kW by importing from the grid --> The more CO2 is\n",
    "    * Electricity price per kWh when importing from the grid\n",
    "    * Electricity price per kWh when exporting from the grid\n",
    "    * All 3 can vary over time, and are used to calculate the cost of a decision you make\n",
    "    \n",
    "    "
   ]
  },
  {
   "cell_type": "markdown",
   "metadata": {},
   "source": [
    "The following line of code makes an energy management decision by running your control dictionary, it will modify the state of the building and will return the same information as in the previous line of code."
   ]
  },
  {
   "cell_type": "code",
   "execution_count": 8,
   "metadata": {},
   "outputs": [
    {
     "name": "stdout",
     "output_type": "stream",
     "text": [
      "{'load': 2.2749179536232047, 'hour': 0, 'pv': 0.0, 'battery_soc': 0.2, 'capa_to_charge': 13.333333333333332, 'capa_to_discharge': 0.0, 'grid_status': 1.0, 'grid_co2': 0.18330306, 'grid_price_import': 0.22, 'grid_price_export': 0.0}\n"
     ]
    }
   ],
   "source": [
    "building_new_data = buildings[0].run(control_dict)\n",
    "print(building_new_data)"
   ]
  },
  {
   "cell_type": "markdown",
   "metadata": {},
   "source": [
    "Of course, any decision you take will generate a cost. The following line of code allows you to know the cost of the most recent decision made for the building :"
   ]
  },
  {
   "cell_type": "code",
   "execution_count": 9,
   "metadata": {},
   "outputs": [
    {
     "data": {
      "text/plain": [
       "10.729409916895865"
      ]
     },
     "execution_count": 9,
     "metadata": {},
     "output_type": "execute_result"
    }
   ],
   "source": [
    "buildings[0].get_cost()"
   ]
  },
  {
   "cell_type": "markdown",
   "metadata": {},
   "source": [
    "Don't forget to reset the building if you need to restart from the beginning of the year ! "
   ]
  },
  {
   "cell_type": "code",
   "execution_count": 10,
   "metadata": {},
   "outputs": [],
   "source": [
    "buildings[0].reset()"
   ]
  },
  {
   "cell_type": "markdown",
   "metadata": {},
   "source": [
    "<h4> What your expertise Rule Based approach should be like </h4>"
   ]
  },
  {
   "cell_type": "markdown",
   "metadata": {},
   "source": [
    "Your goal will be implement rules, or a series of if-else conditions that take into account the state of your building and decide which action should be made in priority. Let's take a look at the building state variables to get a better idea"
   ]
  },
  {
   "cell_type": "markdown",
   "metadata": {},
   "source": []
  },
  {
   "cell_type": "code",
   "execution_count": 11,
   "metadata": {},
   "outputs": [
    {
     "data": {
      "text/plain": [
       "{'load': 2.3,\n",
       " 'hour': 0,\n",
       " 'pv': 0.0,\n",
       " 'battery_soc': 0.2,\n",
       " 'capa_to_charge': 13.3,\n",
       " 'capa_to_discharge': 0.0,\n",
       " 'grid_status': 1.0,\n",
       " 'grid_co2': 0.180924313,\n",
       " 'grid_price_import': 0.22,\n",
       " 'grid_price_export': 0.0}"
      ]
     },
     "execution_count": 11,
     "metadata": {},
     "output_type": "execute_result"
    }
   ],
   "source": [
    "buildings[0].get_updated_values()"
   ]
  },
  {
   "cell_type": "markdown",
   "metadata": {},
   "source": [
    "You will notice that the price of importing electricity varies over time, this implies that it could be interesting to have a rule that monitors variations in electricity price to decide whether we should import more or import less, and in case we import less we would need to have a full battery to use to supply the load. "
   ]
  },
  {
   "cell_type": "markdown",
   "metadata": {},
   "source": [
    "<b> A naive example to get your started can be found below </b>"
   ]
  },
  {
   "cell_type": "code",
   "execution_count": null,
   "metadata": {},
   "outputs": [],
   "source": [
    "def naive_rule_based_strategy(building):\n",
    "    \n",
    "    building_data = building.get_updated_values()\n",
    "\n",
    "    total_building_cost = 0\n",
    "\n",
    "    while building.done == False:\n",
    "        load = building_data['load']\n",
    "        pv = building_data['pv']\n",
    "        capa_to_charge = building_data['capa_to_charge']\n",
    "        capa_to_dischare = building_data['capa_to_discharge']\n",
    "\n",
    "        p_disc = max(0, min(load-pv, capa_to_dischare, building.battery.p_discharge_max))\n",
    "        p_char = max(0, min(pv-load, capa_to_charge, building.battery.p_charge_max))\n",
    "\n",
    "        if load - pv >=  0:\n",
    "\n",
    "            control_dict = {'battery_charge': 0,\n",
    "                                'battery_discharge': p_disc,\n",
    "                                'grid_import': max(0, load-pv-p_disc),\n",
    "                                'grid_export':0,\n",
    "                                'pv_consummed': min(pv, load),\n",
    "                           }\n",
    "\n",
    "\n",
    "        if load - pv <  0:\n",
    "\n",
    "            control_dict = {'battery_charge': p_char,\n",
    "                                'battery_discharge': 0,\n",
    "                                'grid_import': 0,\n",
    "                                'grid_export': max(0,pv-load-p_char),#abs(min(load-pv,0)),\n",
    "                                'pv_consummed': min(pv, load+p_char),\n",
    "                           }\n",
    "\n",
    "        building_data = building.run(control_dict)\n",
    "        total_building_cost += building.get_cost()\n",
    "    \n",
    "    return total_building_cost"
   ]
  },
  {
   "cell_type": "markdown",
   "metadata": {},
   "source": [
    "<font color='red'> <h4> Compulsory Rules for your submission </h4> </font>"
   ]
  },
  {
   "cell_type": "markdown",
   "metadata": {},
   "source": [
    "* It is forbidden to submit the exact results of the RBC Benchmark implemented in Pymgrid or copy the exact same approach, although the code can serve as an inspiration to implement your solution"
   ]
  },
  {
   "cell_type": "markdown",
   "metadata": {},
   "source": [
    "<font color='red'> The details for evaluation for this approach are laid out in the Evaluation Notebook Template </font>"
   ]
  },
  {
   "cell_type": "markdown",
   "metadata": {},
   "source": [
    "<h3> How to use Pymgrid for the Reinforcement Learning Path </h3>"
   ]
  },
  {
   "cell_type": "markdown",
   "metadata": {},
   "source": [
    "If you are familiar with Reinforcement Learning in Python, then you know that OpenAI Gym is the standard framework for most implementations. Pymgrid is no different, and it provides you with the abilitty to \"Gymify\" your buildings."
   ]
  },
  {
   "cell_type": "code",
   "execution_count": 12,
   "metadata": {},
   "outputs": [],
   "source": [
    "### Import the Gym environnement with finite States & Actions\n",
    "import DiscreteEnvironment as DiscreteEnvironment "
   ]
  },
  {
   "cell_type": "code",
   "execution_count": 13,
   "metadata": {},
   "outputs": [],
   "source": [
    "### Gymify your building MicroGrid object\n",
    "env_config={'building':buildings[0]}\n",
    "building_environment = DiscreteEnvironment.Environment(env_config)"
   ]
  },
  {
   "cell_type": "markdown",
   "metadata": {},
   "source": [
    "Now  the building_environment variable behaves exactly like an OpenAI Gym environment. For example we can take an action:"
   ]
  },
  {
   "cell_type": "code",
   "execution_count": 19,
   "metadata": {},
   "outputs": [
    {
     "data": {
      "text/plain": [
       "((-6, 0.4), -9.400159089330588, False, {})"
      ]
     },
     "execution_count": 19,
     "metadata": {},
     "output_type": "execute_result"
    }
   ],
   "source": [
    "building_environment.step(0)"
   ]
  },
  {
   "cell_type": "markdown",
   "metadata": {},
   "source": [
    "It returns the next state, the reward, if we reached the end of the episode, and additionnal info. Let's take a look at the actions and states."
   ]
  },
  {
   "cell_type": "code",
   "execution_count": 24,
   "metadata": {},
   "outputs": [
    {
     "data": {
      "text/plain": [
       "Discrete(5)"
      ]
     },
     "execution_count": 24,
     "metadata": {},
     "output_type": "execute_result"
    }
   ],
   "source": [
    "building_environment.action_space"
   ]
  },
  {
   "cell_type": "markdown",
   "metadata": {},
   "source": [
    "There are 5 different actions available :\\\n",
    "-0: Charge the battery from the PV\\\n",
    "-1: Discharge the battery\\\n",
    "-2: Import from the grid\\\n",
    "-3: Export to the grid\\\n",
    "-4: Charge the battery from the grid\\"
   ]
  },
  {
   "cell_type": "code",
   "execution_count": 25,
   "metadata": {},
   "outputs": [
    {
     "data": {
      "text/plain": [
       "MultiDiscrete([ 45 100])"
      ]
     },
     "execution_count": 25,
     "metadata": {},
     "output_type": "execute_result"
    }
   ],
   "source": [
    "building_environment.observation_space"
   ]
  },
  {
   "cell_type": "markdown",
   "metadata": {},
   "source": [
    "The environment returns two information : \\\n",
    "-The current net load\\\n",
    "-The current state of charge (out of 100) of the battery"
   ]
  },
  {
   "cell_type": "markdown",
   "metadata": {},
   "source": [
    "Once you're done with training, you can switch to the test environment here."
   ]
  },
  {
   "cell_type": "code",
   "execution_count": 17,
   "metadata": {
    "scrolled": true
   },
   "outputs": [
    {
     "data": {
      "text/plain": [
       "(-9, 0.2)"
      ]
     },
     "execution_count": 17,
     "metadata": {},
     "output_type": "execute_result"
    }
   ],
   "source": [
    "building_environment.reset(testing=True)"
   ]
  },
  {
   "cell_type": "markdown",
   "metadata": {},
   "source": [
    "<b> Be careful, the rewards returned by the Gym environment are negative ! Don't forget to multiply by -1 the total reward as the Profitability you will need to submit needs to be positive ! </b>"
   ]
  },
  {
   "cell_type": "markdown",
   "metadata": {},
   "source": [
    "<b> To get started you can check out a Q-Learning implementation on Pymgrid in Github : https://github.com/Total-RD/pymgrid/blob/master/notebooks/A%20Q-Learning%20Example%20with%20PymGrid.ipynb </b>"
   ]
  },
  {
   "cell_type": "markdown",
   "metadata": {},
   "source": [
    "<font color='red'> <h4> Compulsory Rules for your submission </h4> </font>"
   ]
  },
  {
   "cell_type": "markdown",
   "metadata": {},
   "source": [
    "* It is compulsory that you work with DiscreteEnvironment if you want to implement RL approaches with no Deep Learning\n",
    "* It is forbidden to use Deep Learning approaches with the DiscreteEnvironment\n",
    "* If you want to use Q-Learning based approaches, you will have to use the Q-Table defined below"
   ]
  },
  {
   "cell_type": "code",
   "execution_count": 15,
   "metadata": {},
   "outputs": [],
   "source": [
    "##### Represents an input Gym environment Building as a Q-Table\n",
    "\n",
    "import numpy \n",
    "\n",
    "def init_qtable(env, nb_action):\n",
    "    \n",
    "    state = []\n",
    "    Q = {}\n",
    "\n",
    "    for i in range(-int(env.mg.parameters['PV_rated_power']-1),int(env.mg.parameters['load']+2)):\n",
    "        \n",
    "        for j in np.arange(round(env.mg.battery.soc_min,1),round(env.mg.battery.soc_max+0.1,1),0.1):\n",
    "            \n",
    "            j = round(j,1)\n",
    "            state.append((i,j)) \n",
    "\n",
    "    #Initialize Q(s,a) at zero\n",
    "    for s in state:\n",
    "\n",
    "        Q[s] = {}\n",
    "\n",
    "        for a in range(nb_action):\n",
    "\n",
    "            Q[s][a] = 0\n",
    "\n",
    "    return Q"
   ]
  },
  {
   "cell_type": "markdown",
   "metadata": {},
   "source": [
    "<font color='red'> The details for evaluation for this approach are laid out in the Evaluation Notebook Template </font>"
   ]
  },
  {
   "cell_type": "markdown",
   "metadata": {},
   "source": [
    "<h3> How to use Pymgrid for the Deep Reinforcement Learning Path </h3>"
   ]
  },
  {
   "cell_type": "markdown",
   "metadata": {},
   "source": [
    "If you are familiar with Reinforcement Learning in Python, then you know that OpenAI Gym is the standard framework for most implementations. Pymgrid is no different, and it provides you with the abilitty to \"Gymify\" your buildings."
   ]
  },
  {
   "cell_type": "code",
   "execution_count": 2,
   "metadata": {},
   "outputs": [],
   "source": [
    "### Import the Gym environnement with continuous States & discrete actions\n",
    "from pymgrid.Environments.pymgrid_cspla import MicroGridEnv"
   ]
  },
  {
   "cell_type": "code",
   "execution_count": 5,
   "metadata": {},
   "outputs": [],
   "source": [
    "building_environment = MicroGridEnv(env_config={'microgrid':buildings[0],\"testing\":False})"
   ]
  },
  {
   "cell_type": "markdown",
   "metadata": {},
   "source": [
    "Now  the building_environment variable behaves exactly like an OpenAI Gym environment. For example we can take an action:"
   ]
  },
  {
   "cell_type": "code",
   "execution_count": 6,
   "metadata": {},
   "outputs": [
    {
     "data": {
      "text/plain": [
       "(array([ 2.27491795,  0.        ,  0.        ,  0.2       , 13.33333333,\n",
       "         0.        ,  1.        ,  0.18330306,  0.22      ,  0.        ]),\n",
       " -2.275224306041345,\n",
       " False,\n",
       " {})"
      ]
     },
     "execution_count": 6,
     "metadata": {},
     "output_type": "execute_result"
    }
   ],
   "source": [
    "building_environment.step(0)"
   ]
  },
  {
   "cell_type": "markdown",
   "metadata": {},
   "source": [
    "It returns the next state (a vector in this case), the reward, a boolean indicating if we reached the end of the episode and potential additionnal info."
   ]
  },
  {
   "cell_type": "markdown",
   "metadata": {},
   "source": [
    "Let's take a look at the possible actions you can take in this environment:"
   ]
  },
  {
   "cell_type": "code",
   "execution_count": 24,
   "metadata": {},
   "outputs": [
    {
     "data": {
      "text/plain": [
       "Discrete(5)"
      ]
     },
     "execution_count": 24,
     "metadata": {},
     "output_type": "execute_result"
    }
   ],
   "source": [
    "building_environment.action_space"
   ]
  },
  {
   "cell_type": "markdown",
   "metadata": {},
   "source": [
    "There are 5 different actions available :\\\n",
    "-0: Charge the battery from the PV\\\n",
    "-1: Discharge the battery\\\n",
    "-2: Import from the grid\\\n",
    "-3: Export to the grid\\\n",
    "-4: Charge the battery from the grid\\"
   ]
  },
  {
   "cell_type": "markdown",
   "metadata": {},
   "source": [
    "About the state vectors, they represent information about the building's equiment and information about the public grid. You can look at this information with the following function :"
   ]
  },
  {
   "cell_type": "code",
   "execution_count": 7,
   "metadata": {},
   "outputs": [
    {
     "data": {
      "text/plain": [
       "{'load': 2.2749179536232047,\n",
       " 'hour': 0,\n",
       " 'pv': 0.0,\n",
       " 'battery_soc': 0.2,\n",
       " 'capa_to_charge': 13.333333333333332,\n",
       " 'capa_to_discharge': 0.0,\n",
       " 'grid_status': 1.0,\n",
       " 'grid_co2': 0.18330306,\n",
       " 'grid_price_import': 0.22,\n",
       " 'grid_price_export': 0.0}"
      ]
     },
     "execution_count": 7,
     "metadata": {},
     "output_type": "execute_result"
    }
   ],
   "source": [
    "## Notice that this function is used on the MicroGrid object not the OpenAI Gym object\n",
    "buildings[0].get_updated_values()"
   ]
  },
  {
   "cell_type": "markdown",
   "metadata": {},
   "source": [
    "Let's describe the content :\n",
    "* We are at hour=0, meaning this is the initial step, no decision has been made \n",
    "* Our first demand in energy is load=2.3 kW\n",
    "* Our PV has no solar energy to offer\n",
    "* Our battery has a State of Charge of 20% (meaning it is at 20% of full charge)\n",
    "* Our battery has the capacity to charge 13.3 kW\n",
    "* The public grid is currently available grid_status=1 (This will always be the case for the 2 first buildings)\n",
    "* The 3 last values are respectively :\n",
    "    * kCO2 generated per kW by importing from the grid --> The more CO2 is\n",
    "    * Electricity price per kWh when importing from the grid\n",
    "    * Electricity price per kWh when exporting from the grid\n",
    "    * All 3 can vary over time, and are used to calculate the cost of a decision you make\n",
    "    \n",
    "    "
   ]
  },
  {
   "cell_type": "markdown",
   "metadata": {},
   "source": [
    "<b> All this information at a given time step defines the state vector of the environment </b>"
   ]
  },
  {
   "cell_type": "markdown",
   "metadata": {},
   "source": [
    "<b> How does my favourite Deep Learning RL library interact with Pymgrid ? </b>"
   ]
  },
  {
   "cell_type": "markdown",
   "metadata": {},
   "source": [
    "The MicroGridEnv object acts as a Custom Gym Environment, this means that when you create your agent using the Deep RL library of your choice, you will specify MicroGridEnv as an environment and will provide a config dictionnary to specificy to the agent exactly which of the 3 buildings he will be working with."
   ]
  },
  {
   "cell_type": "markdown",
   "metadata": {},
   "source": [
    "\n",
    "Each Deep RL library has it's own way of initializing an agent with a CustomEnvironment, so choose the one you are most confortable with ! Just make sure it's gym conpatible."
   ]
  },
  {
   "cell_type": "markdown",
   "metadata": {},
   "source": [
    "After you've initialized your agent as described, you will be able to work as you usally do with Gym. <b> Don't forget to switch on the test buildings ! </b>"
   ]
  },
  {
   "cell_type": "markdown",
   "metadata": {},
   "source": [
    "<font color='red'> <h4> Compulsory Rules for your submission </h4> </font>"
   ]
  },
  {
   "cell_type": "markdown",
   "metadata": {},
   "source": [
    "* It is compulsory that you work exclusively with the MicroGridEnv imported from pymgrid.Environments.pymgrid_cspla. Any other environment used will be rejected"
   ]
  },
  {
   "cell_type": "markdown",
   "metadata": {},
   "source": [
    "<font color='red'> The details for evaluation for this approach are laid out in the Evaluation Notebook Template </font>"
   ]
  },
  {
   "cell_type": "markdown",
   "metadata": {},
   "source": [
    "<h3> Note on the Optimizer's Path </h3>"
   ]
  },
  {
   "cell_type": "markdown",
   "metadata": {},
   "source": [
    "As there is a very vast and diverse number of ways one can formulate an Optimization under constraints problem, it is difficult to guide you along a specific methodology to use Pymgrid. "
   ]
  },
  {
   "cell_type": "markdown",
   "metadata": {},
   "source": [
    "So we deliberitaly leave all possibilities open, evaluation rules will be specific to your approach."
   ]
  },
  {
   "cell_type": "markdown",
   "metadata": {},
   "source": [
    "If you wish to solve the problem this way, coaches will be not able to guarantee that your solution is really on the right path or not. You'll have to really know what you are doing."
   ]
  }
 ],
 "metadata": {
  "hide_input": false,
  "kernelspec": {
   "display_name": "hiparis",
   "language": "python",
   "name": "hiparis"
  },
  "language_info": {
   "codemirror_mode": {
    "name": "ipython",
    "version": 3
   },
   "file_extension": ".py",
   "mimetype": "text/x-python",
   "name": "python",
   "nbconvert_exporter": "python",
   "pygments_lexer": "ipython3",
   "version": "3.8.0"
  }
 },
 "nbformat": 4,
 "nbformat_minor": 4
}
